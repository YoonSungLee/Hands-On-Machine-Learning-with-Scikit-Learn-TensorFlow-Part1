{
  "nbformat": 4,
  "nbformat_minor": 0,
  "metadata": {
    "colab": {
      "name": "Hands-On Machine Learning(Ch9) - 비지도학습.ipynb",
      "provenance": [],
      "collapsed_sections": [],
      "machine_shape": "hm",
      "authorship_tag": "ABX9TyNppVurOEMFXRJfbglLB0cf"
    },
    "kernelspec": {
      "name": "python3",
      "display_name": "Python 3"
    },
    "accelerator": "GPU"
  },
  "cells": [
    {
      "cell_type": "markdown",
      "metadata": {
        "id": "_Kk2GzfqUh4S"
      },
      "source": [
        "# 9장. 비지도 학습"
      ]
    },
    {
      "cell_type": "markdown",
      "metadata": {
        "id": "wRLRaa9Xtgal"
      },
      "source": [
        "https://nbviewer.jupyter.org/github/rickiepark/handson-ml2/tree/master/"
      ]
    },
    {
      "cell_type": "markdown",
      "metadata": {
        "id": "tfODN0oSlz6W"
      },
      "source": [
        "\n",
        "이 코드의 내용은 Hands-On Machine Learning with Scikit-Learn & TensorFlow을 참고했음을 밝힙니다."
      ]
    },
    {
      "cell_type": "markdown",
      "metadata": {
        "id": "9KBiX6Nbl2sa"
      },
      "source": [
        "* 군집(clustering): 비슷한 샘플을 클러스터(cluster)로 모읍니다. 군집은 데이터 분석, 고객 분류, 추천 시스템, 검색 엔진, 이미지 분할, 준지도 학습, 차원 축소 등에 사용할 수 있는 훌륭한 도구입니다.\n",
        "* 이상치 탐지(outlier detection): '정상' 데이터가 어떻게 보이는지를 학습합니다. 그다음 비정상 샘플을 감지하는 데 사용합니다. 예를 들면 제조 라인에서 결함 제품을 감지하거나 시계열 데이터에서 새로운 트렌드를 찾습니다.\n",
        "* 밀도 추정(density estimation): 데이터셋 생성 확률 과정(random process)의 확률 밀도 함수(probaility density function, PDF)를 추정합니다. 밀도 추정은 이상치 탐지에 널리 사용됩니다. 밀돋가 매우 낮은 영역에 놓인 샘플이 이상치일 가능성이 높습니다. 또한 데이터 분석과 시각화에도 유용합니다."
      ]
    },
    {
      "cell_type": "markdown",
      "metadata": {
        "id": "sA_MNNPcpqXh"
      },
      "source": [
        "# 군집"
      ]
    },
    {
      "cell_type": "markdown",
      "metadata": {
        "id": "WB8w0ycvpsm2"
      },
      "source": [
        "비슷한 샘플을 구별해 하나의 클러스터(cluster) 또는 비슷한 샘플의 그룹으로 할당하는 작업\n",
        "> 아이디어: 같은 군집 내의 유사도는 크게, 다른 군집 내의 유사도는 작게"
      ]
    },
    {
      "cell_type": "markdown",
      "metadata": {
        "id": "HKdsdhWEp7S-"
      },
      "source": [
        "### 군집을 적용하는 다양한 애플리케이션"
      ]
    },
    {
      "cell_type": "markdown",
      "metadata": {
        "id": "2zn6Owa6qQ2r"
      },
      "source": [
        "* 고객 분류<br>\n",
        "고객을 구매 이력이나 웹사이트 내 행동 등을 기반으로 클러스터로 모을 수 있습니다. 이는 고객이 누구인지, 고객이 무엇을 원하는지 이해하는 데 도움이 됩니다. 고객 그룹마다 제품 추천이나 마케팅 전략을 다르게 적용할 수 있습니다. 예를 들어 동일한 클러스터 내의 사용자가 좋아하는 컨텐츠를 추천하는 추천 시스템(recommender system)을 만들 수 있습니다.<br>\n",
        "<br>\n",
        "\n",
        "* 데이터 분석<br>\n",
        "새로운 데이터셋을 분석할 때 군집 알고리즘을 실행하고 각 클러스터를 따로 분석하면 도움이 됩니다.<br>\n",
        "<br>\n",
        "\n",
        "* 차원 축소 기법<br>\n",
        "한 데이터셋에 군집 알고리즘을 적용하면 각 클러스터에 대한 샘플의 친화성(affinity)을 측정할 수 있습니다(친화성은 샘플이 클러스터에 얼마나 잘 맞는지를 측정합니다). 각 샘플의 특성 벡터 x는 클러스터 친화성의 벡터로 바꿀 수 있습니다. k개의 클러스터가 있다면 이 벡터는 k차원이 됩니다. 이 벡터는 일반적으로 원본 특성 벡터보다 훨씬 저차원입니다. 하지만 이후 분석을 위한 충분한 정보를 가질 수 있습니다.<br>\n",
        "<br>\n",
        "\n",
        "* 이상치 탐지<br>\n",
        "모든 클러스터에 친화성이 낮은 샘플은 이상치일 가능성이 높습니다. 웹사이트 내 행동을 기반으로 사용자의 클러스터를 만들었다면 초당 웹서버 요청을 비정상적으로 많이 하는 사용자를 감지할 수 있습니다. 이상치 탐지는 특히 제조 분야에서 결함을 감지할 때 유용합니다. 또는 부정 거래 감지(fraud detection)에 활용됩니다.<br>\n",
        "<br>\n",
        "\n",
        "* 준지도 학습<br>\n",
        "레이블된 샘플이 적다면 군집을 수행하고 동일한 클러스터에 있는 모든 샘플에 레이블을 전파할 수 있습니다. 이 기법은 이어지는 지도 학습 알고리즘에 필요한 레이블이 크게 증가해 성능을 크게 향상시킵니다.<br>\n",
        "<br>\n",
        "\n",
        "* 검색 엔진<br>\n",
        "일부 검색 엔진은 제시된 이미지와 비슷한 이미지를 찾아줍니다. 이런 시스템을 구축하려면 먼저 데이터베이스에 있는 모든 이미지에 군집 알고리즘을 적용해야 합니다. 비슷한 이미지는 동일한 클러스터에 속합니다. 사용자가 찾으려는 이미지를 제공하면 훈련된 군집 모델을 사용해 이미지의 클러스터를 찾습니다. 그다음 이 클러스터의 모든 이미지를 반환합니다.<br>\n",
        "<br>\n",
        "\n",
        "* 이미지 분할<br>\n",
        "색을 기반으로 픽셀을 클러스터로 모읍니다. 그다음 각 픽셀의 색을 해당 클러스터의 평균 색으로 바꿉니다. 이는 이미지에 있는 색상의 종류를 크게 줄입니다. 이렇게 하면 물체의 윤곽을 감지하기 쉬워져 물체 탐지 및 추적 시스템에서 이미지 분할을 많이 활용합니다.\n"
      ]
    },
    {
      "cell_type": "markdown",
      "metadata": {
        "id": "8fEqiS_TqyCU"
      },
      "source": [
        "### 1. k-평균"
      ]
    },
    {
      "cell_type": "code",
      "metadata": {
        "id": "OmSdXiS8tAyS",
        "outputId": "58775db9-9e84-4ecf-d76d-3e7aae98a8ca",
        "colab": {
          "base_uri": "https://localhost:8080/",
          "height": 284
        }
      },
      "source": [
        "from sklearn.datasets import make_blobs\n",
        "import numpy as np\n",
        "import matplotlib.pyplot as plt\n",
        "\n",
        "blob_centers = np.array(\n",
        "    [[ 0.2,  2.3],\n",
        "     [-1.5 ,  2.3],\n",
        "     [-2.8,  1.8],\n",
        "     [-2.8,  2.8],\n",
        "     [-2.8,  1.3]])\n",
        "blob_std = np.array([0.4, 0.3, 0.1, 0.1, 0.1])\n",
        "\n",
        "X, y = make_blobs(n_samples=2000, centers=blob_centers,\n",
        "                  cluster_std=blob_std, random_state=7)\n",
        "\n",
        "def plot_clusters(X, y=None):\n",
        "    plt.scatter(X[:, 0], X[:, 1], c=y, s=1)\n",
        "    plt.xlabel(\"$x_1$\", fontsize=14)\n",
        "    plt.ylabel(\"$x_2$\", fontsize=14, rotation=0)\n",
        "\n",
        "plt.figure(figsize=(8, 4))\n",
        "plot_clusters(X)\n",
        "# save_fig(\"blobs_plot\")\n",
        "plt.show()   "
      ],
      "execution_count": null,
      "outputs": [
        {
          "output_type": "display_data",
          "data": {
            "image/png": "[encoded data removed]",
            "text/plain": [
              "<Figure size 576x288 with 1 Axes>"
            ]
          },
          "metadata": {
            "tags": [],
            "needs_background": "light"
          }
        }
      ]
    },
    {
      "cell_type": "code",
      "metadata": {
        "id": "n7gwmu7Pt_5P"
      },
      "source": [
        "# 각 클러스터의 중심을 찾고 가장 가까운 클러스터에 샘플을 할당합니다.\n",
        "# 이 예에서는 데이터를 보고 k를 5로 지정해야 한다고 알 수 있지만 이는 일반적으로 쉬운 일이 아닙니다.\n",
        "\n",
        "from sklearn.cluster import KMeans\n",
        "\n",
        "k = 5   # 클러스터의 개수\n",
        "kmeans = KMeans(n_clusters=k, random_state=42)\n",
        "y_pred = kmeans.fit_predict(X)"
      ],
      "execution_count": null,
      "outputs": []
    },
    {
      "cell_type": "code",
      "metadata": {
        "id": "6IIa5rBzuPsI",
        "outputId": "4bfb98ae-e36d-48c0-be0e-29d2ca65a2b1",
        "colab": {
          "base_uri": "https://localhost:8080/",
          "height": 35
        }
      },
      "source": [
        "# 군집에서 각 샘플의 레이블(label)은 알고리즘이 샘플에 할당한 클러스터의 인덱스입니다.\n",
        "\n",
        "y_pred"
      ],
      "execution_count": null,
      "outputs": [
        {
          "output_type": "execute_result",
          "data": {
            "text/plain": [
              "array([4, 1, 0, ..., 3, 0, 1], dtype=int32)"
            ]
          },
          "metadata": {
            "tags": []
          },
          "execution_count": 15
        }
      ]
    },
    {
      "cell_type": "code",
      "metadata": {
        "id": "Gh4v054DuiKQ",
        "outputId": "5878b38f-0d8c-452e-c30f-a40322e26307",
        "colab": {
          "base_uri": "https://localhost:8080/",
          "height": 35
        }
      },
      "source": [
        "# KMeans 클래스의 인스턴스는 lables_ 인스턴스 변수에 훈련된 샘플의 레이블을 가지고 있습니다.\n",
        "\n",
        "y_pred is kmeans.labels_"
      ],
      "execution_count": null,
      "outputs": [
        {
          "output_type": "execute_result",
          "data": {
            "text/plain": [
              "True"
            ]
          },
          "metadata": {
            "tags": []
          },
          "execution_count": 16
        }
      ]
    },
    {
      "cell_type": "code",
      "metadata": {
        "id": "Q0sm5DwXusGd",
        "outputId": "fb7d4d42-b6cf-44d3-d845-99b167c2c9ef",
        "colab": {
          "base_uri": "https://localhost:8080/",
          "height": 108
        }
      },
      "source": [
        "# 이 알고리즘이 찾은 센트로이드 다섯 개도 확인할 수 있습니다.\n",
        "\n",
        "kmeans.cluster_centers_"
      ],
      "execution_count": null,
      "outputs": [
        {
          "output_type": "execute_result",
          "data": {
            "text/plain": [
              "array([[ 0.20876306,  2.25551336],\n",
              "       [-2.80389616,  1.80117999],\n",
              "       [-1.46679593,  2.28585348],\n",
              "       [-2.79290307,  2.79641063],\n",
              "       [-2.80037642,  1.30082566]])"
            ]
          },
          "metadata": {
            "tags": []
          },
          "execution_count": 17
        }
      ]
    },
    {
      "cell_type": "code",
      "metadata": {
        "id": "faOPn3fju-36",
        "outputId": "2ce537a4-07f2-404f-f54e-e1c370c452f1",
        "colab": {
          "base_uri": "https://localhost:8080/",
          "height": 35
        }
      },
      "source": [
        "# 새로운 샘플에 가장 가까운 센트로이드의 클러스터를 할당할 수 있습니다.\n",
        "\n",
        "X_new = np.array([[0, 2], [3, 2], [-3, 3], [-3, 2.5]])\n",
        "kmeans.predict(X_new)"
      ],
      "execution_count": null,
      "outputs": [
        {
          "output_type": "execute_result",
          "data": {
            "text/plain": [
              "array([0, 0, 3, 3], dtype=int32)"
            ]
          },
          "metadata": {
            "tags": []
          },
          "execution_count": 18
        }
      ]
    },
    {
      "cell_type": "markdown",
      "metadata": {
        "id": "TUYzQxF6vOQd"
      },
      "source": [
        "<img src='https://i.imgur.com/GPIaPu0.png' width='100%'>"
      ]
    },
    {
      "cell_type": "markdown",
      "metadata": {
        "id": "qyy0IeFmvh3F"
      },
      "source": [
        "클러스터의 결정 경계를 그려보면 보로노이 다이어그램(Voronoi tessellation)을 얻을 수 있습니다(센트로이드는 x로 표시되어 있습니다)."
      ]
    },
    {
      "cell_type": "markdown",
      "metadata": {
        "id": "e6q1vB0XvrGw"
      },
      "source": [
        "k-평균 알고리즘은 클러스터의 크기가 많이 다르면 잘 작동하지 않습니다. 샘플을 클러스터에 할당할 때 센트로이드까지 거리를 고려하는 것이 전부이기 때문입니다."
      ]
    },
    {
      "cell_type": "markdown",
      "metadata": {
        "id": "WqpFzwOBv847"
      },
      "source": [
        "* 하드 군집(hard clustering): 샘플을 하나의 클러스터에 할당\n",
        "* 소프트 군집(soft clustering): 샘플에 점수(예를 들어 샘플과 센트로이드 사이의 거리, 가우시안 방사 기저 함수와 같은 유사도 점수(similarity score, 또는 친화성 점수))를 부여"
      ]
    },
    {
      "cell_type": "code",
      "metadata": {
        "id": "hwxhdr1OwHPr",
        "outputId": "cc8c5429-5d7a-4b10-df9b-ad861f680131",
        "colab": {
          "base_uri": "https://localhost:8080/",
          "height": 89
        }
      },
      "source": [
        "# 샘플과 각 센트로이드 사이의 거리를 반환\n",
        "# X_new에 있는 첫 번째 샘플은 첫 번째 row에 해당하며, 각 column은 각 센트로이드를 의미한다.\n",
        "# 고차원 데이터셋 --(soft clustering)--> k-차원 데이터셋\n",
        "# 매우 효율적인 비선형 차원 축소 기법\n",
        "\n",
        "kmeans.transform(X_new)"
      ],
      "execution_count": null,
      "outputs": [
        {
          "output_type": "execute_result",
          "data": {
            "text/plain": [
              "array([[0.32995317, 2.81093633, 1.49439034, 2.9042344 , 2.88633901],\n",
              "       [2.80290755, 5.80730058, 4.4759332 , 5.84739223, 5.84236351],\n",
              "       [3.29399768, 1.21475352, 1.69136631, 0.29040966, 1.71086031],\n",
              "       [3.21806371, 0.72581411, 1.54808703, 0.36159148, 1.21567622]])"
            ]
          },
          "metadata": {
            "tags": []
          },
          "execution_count": 19
        }
      ]
    },
    {
      "cell_type": "markdown",
      "metadata": {
        "id": "0efm1qMQf-gh"
      },
      "source": [
        "### k-평균 알고리즘"
      ]
    },
    {
      "cell_type": "markdown",
      "metadata": {
        "id": "COLMnG5ihvn3"
      },
      "source": [
        "<img src='https://i.imgur.com/DUb4wSZ.png' width='100%'>"
      ]
    },
    {
      "cell_type": "markdown",
      "metadata": {
        "id": "rkbI-DengQEF"
      },
      "source": [
        "1. 센트로이드 랜덤 선정(예를 들어 무작위로 k개의 샘플을 뽑아 그 위치를 센트로이드로 가정)<br>\n",
        "2. 샘플에 레이블을 할당<br>\n",
        "3. 센트로이드를 업데이트<br>\n",
        "4. 샘플에 변화가 없을 때까지 2번과 3번을 반복"
      ]
    },
    {
      "cell_type": "markdown",
      "metadata": {
        "id": "wPWOZoLkhGml"
      },
      "source": [
        "* Hard Clustering\n",
        "* 제한된 횟수 안에 수렴하는 것을 보장(샘플과 가장 가까운 센트로이드 사이의 평균 제곱 거리가 매 단계마다 작아질 수밖에 없기 때문)\n",
        "* 이 알고리즘의 계산 복잡도는 일반적으로 샘플 개수 m, 클러스터 개수 k, 차원 개수 n에 선형적입니다. 하지만 데이터가 군집할 수 있는 구조를 가질 때입니다. 그렇지 않으면 최악의 경우 계산 복잡도는 샘플 개수가 지수적으로 급격히 증가할 수 있습니다. 실제로 이런 일은 드뭅니다. 일반적으로 k-평균은 가장 빠른 군집 알고리즘 중 하나입니다.\n",
        "* 이 알고리즘이 수렴하는 것이 보장되지만 적절한 솔루션으로 수렴하지 못할 수 있습니다(즉 지역 최적점으로 수렴할 수 있습니다). 이 여부는 센트로이드 초기화에 달려 있습니다.\n",
        "* 데이터셋이 원형의 형태임을 가정(타원형, 비선형 등의 데이터셋에 약하다)"
      ]
    },
    {
      "cell_type": "markdown",
      "metadata": {
        "id": "evBzsiz4iMEm"
      },
      "source": [
        "<img src='https://i.imgur.com/ciYarDK.png' width='100%'>"
      ]
    },
    {
      "cell_type": "markdown",
      "metadata": {
        "id": "800TP9i7iq1R"
      },
      "source": [
        "<운 나쁜 센트로이드 초기화 때문에 만들어진 최적이 아닌 솔루션>"
      ]
    },
    {
      "cell_type": "markdown",
      "metadata": {
        "id": "uxuiEnKdiudW"
      },
      "source": [
        "### 센트로이드 초기화 방법"
      ]
    },
    {
      "cell_type": "code",
      "metadata": {
        "id": "OAMOPezRizbf"
      },
      "source": [
        "# 센트로이드 위치를 근사하게 알 수 있다면(예를 들어 또 다른 군집 알고리즘을 먼저 실행) 아래와 같이 수행\n",
        "# 사이킷런은 fit() 메서드를 호출할 때 전체 알고리즘을 n_init번 실행 후 최선의 솔루션을 반환\n",
        "# --> 최선의 솔루션에 대한 성능 지표는 \"이니셔(inertia)\"\n",
        "# --> KMeans 클래스는 알고리즘을 n_init번 실행하여 이너셔가 가장 낮은 모델을 반환\n",
        "\n",
        "good_init = np.array([[-3, 3], [-3, 2], [-3, 1], [-1, 2], [0, 2]])\n",
        "kmeans = KMeans(n_clusters=5, init=good_init, n_init=1, random_state=42)    # n_init: 랜덤 초기화 횟수(default=10)"
      ],
      "execution_count": null,
      "outputs": []
    },
    {
      "cell_type": "markdown",
      "metadata": {
        "id": "CIR5OvPBjf93"
      },
      "source": [
        "* 이니셔(inertia, ==L2 norm): 각 샘플과 가장 가까운 센트로이드 사이의 평균 제곱 거리 --> 군집화에 사용하는 성능 지표"
      ]
    },
    {
      "cell_type": "code",
      "metadata": {
        "id": "OJ4VGH4pklO_",
        "outputId": "c3f9aac2-e65b-4f41-9d6c-bece831ed687",
        "colab": {
          "base_uri": "https://localhost:8080/",
          "height": 35
        }
      },
      "source": [
        "kmeans.inertia_"
      ],
      "execution_count": null,
      "outputs": [
        {
          "output_type": "execute_result",
          "data": {
            "text/plain": [
              "211.5985372581684"
            ]
          },
          "metadata": {
            "tags": []
          },
          "execution_count": 20
        }
      ]
    },
    {
      "cell_type": "code",
      "metadata": {
        "id": "0iFgbyjXkoCM",
        "outputId": "af1b17fe-907a-4b59-e1b4-e7df04c0eec7",
        "colab": {
          "base_uri": "https://localhost:8080/",
          "height": 35
        }
      },
      "source": [
        "# 예측기의 socre() 메서드는 사이킷런의 '큰 값이 좋은 것이다' 라는 규칙을 따라야 하기 때문에 이너셔의 음숫값을 반환\n",
        "\n",
        "kmeans.score(X)"
      ],
      "execution_count": null,
      "outputs": [
        {
          "output_type": "execute_result",
          "data": {
            "text/plain": [
              "-211.59853725816856"
            ]
          },
          "metadata": {
            "tags": []
          },
          "execution_count": 21
        }
      ]
    },
    {
      "cell_type": "markdown",
      "metadata": {
        "id": "nAqAXDxFlcab"
      },
      "source": [
        "### k-평균++ 알고리즘"
      ]
    },
    {
      "cell_type": "markdown",
      "metadata": {
        "id": "_69vBg3UHsnm"
      },
      "source": [
        "* 다른 센트로이드와 거리가 먼 센트로이드를 선택하는 초기화 단계 적용\n",
        "* k-평균 알고리즘이 최적이 아닌 솔루션으로 수렴할 가능성을 크게 낮춥니다.\n",
        "* 최적의 솔루션을 찾기 위해 실행할 알고리즘 반복 횟수를 크게 줄일 수 있습니다."
      ]
    },
    {
      "cell_type": "markdown",
      "metadata": {
        "id": "alTlcuPrICqO"
      },
      "source": [
        "<img src='https://i.imgur.com/5ZHqvUD.png' width='100%'>"
      ]
    },
    {
      "cell_type": "markdown",
      "metadata": {
        "id": "gxaoZdoKIPje"
      },
      "source": [
        "Kmeans 클래스는 기본적으로 이 초기화 방법을 사용합니다. 원래 방식을 사용하고 싶다면(즉 k개의 샘플을 랜덤하게 선택하여 초기 센트로이드로 지정하고 싶다면) init 매개변수를 'random'으로 지정합니다. 그러나 이렇게 할 필요성은 거의 없을 것입니다."
      ]
    },
    {
      "cell_type": "markdown",
      "metadata": {
        "id": "dIlt-RATIob9"
      },
      "source": [
        "### k-평균 속도 개선과 미니배치 k-평균"
      ]
    },
    {
      "cell_type": "markdown",
      "metadata": {
        "id": "llOsvdpdO4vO"
      },
      "source": [
        "* 전체 데이터셋을 사용해 반복하지 않고 이 알고리즘은 각 반복마다 미니배치를 사용해 센트로이드를 조금씩 이동합니다.\n",
        "* 이는 일반적으로 알고리즘의 속도를 3배에서 4배 정도 높입니다.\n",
        "* 또한 메모리에 들어가지 않는 대량의 데이터셋에 군집 알고리즘을 적용할 수 있습니다.\n",
        "* 미니배치 k-평균 알고리즘이 일반 k-평균 알고리즘보다 훨씬 빠르지만 이너셔는 일반적으로 조금 더 나쁩니다."
      ]
    },
    {
      "cell_type": "markdown",
      "metadata": {
        "id": "2ktB1fyCQB9Z"
      },
      "source": [
        "<img src='https://i.imgur.com/bsMjfX9.png' width='100%'>"
      ]
    },
    {
      "cell_type": "code",
      "metadata": {
        "id": "Clmpjd6XLaQ5",
        "outputId": "09722772-dbda-4027-b1b5-308095386fef",
        "colab": {
          "base_uri": "https://localhost:8080/",
          "height": 89
        }
      },
      "source": [
        "from sklearn.cluster import MiniBatchKMeans\n",
        "\n",
        "minibatch_kmeans = MiniBatchKMeans(n_clusters=5)\n",
        "minibatch_kmeans.fit(X)"
      ],
      "execution_count": null,
      "outputs": [
        {
          "output_type": "execute_result",
          "data": {
            "text/plain": [
              "MiniBatchKMeans(batch_size=100, compute_labels=True, init='k-means++',\n",
              "                init_size=None, max_iter=100, max_no_improvement=10,\n",
              "                n_clusters=5, n_init=3, random_state=None,\n",
              "                reassignment_ratio=0.01, tol=0.0, verbose=0)"
            ]
          },
          "metadata": {
            "tags": []
          },
          "execution_count": 23
        }
      ]
    },
    {
      "cell_type": "markdown",
      "metadata": {
        "id": "X65HwnjyOu83"
      },
      "source": [
        "### 최적의 클러스터 개수 찾기"
      ]
    },
    {
      "cell_type": "markdown",
      "metadata": {
        "id": "VGN9ZAyGQaEx"
      },
      "source": [
        "<img src='https://i.imgur.com/DFYIFHa.png' width='100%'>"
      ]
    },
    {
      "cell_type": "markdown",
      "metadata": {
        "id": "WcNUrgn4QtUY"
      },
      "source": [
        "k가 너무 작으면 별개의 클러스터를 합치고(왼쪽), k가 너무 크면 하나의 클러스터가 여러 개로 나뉩니다(오른쪽)."
      ]
    },
    {
      "cell_type": "markdown",
      "metadata": {
        "id": "8czH_ItkQzPr"
      },
      "source": [
        "최적의 클러스터의 개수를 찾는 방법으로 가장 작은 이너셔를 가진 모델을 선택하면 다음과 같은 문제점이 발생합니다. k=3일 때 이너셔는 653.2이고 이는 k=5일 때(211.6)보다 높습니다. 하지만 k=8일 때 이너셔는 119.1입니다. 이너셔는 k가 증가함에 따라 점점 작아지므로 k를 선택할 때 좋은 성능 지표가 아닙니다. 실제로 클러스터가 늘어날수록 각 샘플은 가까운 센트로이드에 더 가깝게 됩니다. 따라서 이너셔는 더 작아질 것입니다."
      ]
    },
    {
      "cell_type": "markdown",
      "metadata": {
        "id": "GCy07HvCRxEa"
      },
      "source": [
        "이너셔를 k의 함수로 그래프를 그려본다면?"
      ]
    },
    {
      "cell_type": "markdown",
      "metadata": {
        "id": "IyNZkAp_RH58"
      },
      "source": [
        "<img src='https://i.imgur.com/4JNyn9N.png' width='100%'>"
      ]
    },
    {
      "cell_type": "markdown",
      "metadata": {
        "id": "L0WY0l9uRVbb"
      },
      "source": [
        "k에 대한 정답을 모른다면 4는 좋은 선택이 됩니다. 이보다 작은 값은 변화가 심하고 더 큰 값은 크게 도움이 되지 않습니다. 어쩌면 완벽한 클러스터를 아무 이유 없이 반으로 나누었는지 모릅니다. 하지만 이 방법은 너무 엉성합니다."
      ]
    },
    {
      "cell_type": "markdown",
      "metadata": {
        "id": "R8nU3Xh8TA9H"
      },
      "source": [
        "실루엣 점수(silhouette score)"
      ]
    },
    {
      "cell_type": "markdown",
      "metadata": {
        "id": "iwZQNUAwTFI9"
      },
      "source": [
        "* 최선의 클러스터 개수를 선택하는 더 정확한 방법\n",
        "* 모든 샘플에 대한 실루엣 계수(silhouette coefficient)의 평균\n",
        "* 샘플의 실루엣 계수는 (b-a)/max(a,b)로 계산\n",
        "* a는 동일한 클러스터에 있는 다른 샘플까지 평균 거리(즉 클러스터 내부의 평균 거리)\n",
        "* b는 가장 가까운 클러스터까지의 평균 거리(즉 가장 가까운 클러스터의 샘플까지 평균 거리, 샘플과 가장 가까운 클러스터는 자신이 속한 클러스터는 제외하고 b가 최소인 클러스터입니다)\n",
        "* -1 <= (실루엣 계수) <= 1\n",
        "* 실루엣 계수가 +1에 가까우면 자신의 클러스터 안에 잘 속해 있고 다른 클러스터와는 멀리 떨어져 있다.\n",
        "* 실루엣 계수가 0에 가까우면 클러스터 경계에 위치한다.\n",
        "* 실루엣 계수가 -1에 가까우면 이 샘플이 잘못된 클러스터에 할당되었다.\n",
        "* 계산 비용이 많이 드는 방법"
      ]
    },
    {
      "cell_type": "code",
      "metadata": {
        "id": "ac_2rmJ9UAk4",
        "outputId": "ba00a487-6dc4-4e41-a884-55ce36a2b295",
        "colab": {
          "base_uri": "https://localhost:8080/",
          "height": 35
        }
      },
      "source": [
        "from sklearn.metrics import silhouette_score\n",
        "silhouette_score(X, kmeans.labels_)"
      ],
      "execution_count": null,
      "outputs": [
        {
          "output_type": "execute_result",
          "data": {
            "text/plain": [
              "0.655517642572828"
            ]
          },
          "metadata": {
            "tags": []
          },
          "execution_count": 24
        }
      ]
    },
    {
      "cell_type": "markdown",
      "metadata": {
        "id": "w4p4hkmSUJKY"
      },
      "source": [
        "<img src='https://i.imgur.com/mAxqOrm.png' width='100%'>"
      ]
    },
    {
      "cell_type": "markdown",
      "metadata": {
        "id": "4qJGqMmDUSYc"
      },
      "source": [
        "실루엣 다이어그램(silhouette diagram)"
      ]
    },
    {
      "cell_type": "markdown",
      "metadata": {
        "id": "5ya4XN-yU-_1"
      },
      "source": [
        "* 모든 샘플의 실루엣 계수를 할당된 클러스터와 계숫값으로 정렬하여 그리면 더 많은 정보가 있는 그래프를 얻을 수 있습니다.\n",
        "* 이 그래프의 높이는 클러스터가 포함하고 있는 샘플의 개수를 의미하고 너비는 이 클러스터에 포함된 샘플의 정렬된 실루엣 계수를 나타냅니다(넓을수록 좋습니다).\n",
        "* 수직 파선은 각 클러스터 개수에 해당하는 실루엣 점수를 나타냅니다.\n",
        "* 한 클러스터의 샘플 대부분이 이 점수보다 낮은 계수를 가지면(즉 많은 샘플이 파선의 왼쪽에서 멈추면) 클러스터의 샘플이 다른 클러스터랑 너무 가깝다는 것을 의미하므로 나쁜 클러스터입니다."
      ]
    },
    {
      "cell_type": "markdown",
      "metadata": {
        "id": "Fd0wXklpVMrl"
      },
      "source": [
        "<img src='https://i.imgur.com/9GlDkqo.png' width='100%'>"
      ]
    },
    {
      "cell_type": "markdown",
      "metadata": {
        "id": "kyP_8bsOVTvS"
      },
      "source": [
        "k=4나 k=5일 때는 클러스터가 상당히 좋아 보입니다. 대부분의 샘플이 파선을 넘어서 뻗어 있고 1.0에 근접해 있습니다. k=4일 때 인덱스 1의(위에서부터 세 번째) 클러스터가 매우 큽니다. k=5일 때는 모든 클러스터의 크기가 비슷합니다. 따라서 k=4일 때 전반적인 실루엣 점수가 k=5보다 조금 높더라도 비슷한 크기의 클러스터를 얻을 수 있는 k=5를 선택하는 것이 좋습니다."
      ]
    },
    {
      "cell_type": "markdown",
      "metadata": {
        "id": "MMZe0keQWIMG"
      },
      "source": [
        "### 2. k-평균의 한계"
      ]
    },
    {
      "cell_type": "markdown",
      "metadata": {
        "id": "vIdcYm1-WJW1"
      },
      "source": [
        "* 최적이 아닌 솔루션을 피하려면 알고리즘을 여러 번 실행해야 합니다.\n",
        "* 클러스터 개수를 지정해야 합니다.\n",
        "* 클러스터의 크기나 밀집도가 서로 다르거나 원형이 아닐 경우 잘 작동하지 않습니다. --> 가우시안 혼합 모델이 잘 작동합니다.\n",
        "* 따라서 k-평균을 실행하기 전에 입력 특성의 스케일을 맞추는 것이 중요합니다. 그렇지 않으면 클러스터가 길쭉해지고 k-평균의 결과가 좋지 않습니다. 특성의 스케일을 맞추어도 모든 클러스터가 잘 구분되고 원형의 형태를 가진다고 보장할 수는 없지만 일반적으로 더 좋아집니다."
      ]
    },
    {
      "cell_type": "markdown",
      "metadata": {
        "id": "BQBNqsphYbjq"
      },
      "source": [
        "### 3. 군집을 사용한 이미지 분할"
      ]
    },
    {
      "cell_type": "markdown",
      "metadata": {
        "id": "RGK0JZSvYhiJ"
      },
      "source": [
        "* 이미지 분할(image segmentation):이미지를 세그먼트(segment) 여러 개로 분할하는 작업\n",
        "* 시맨틱 분할(semantic segmentation): 동일한 종류의 물체에 속한 모든 픽셀은 같은 세그먼트에 할당\n",
        "* 색상 분할(color segmentation): 동일한 색상을 가진 픽셀을 같은 세그먼트에 할당"
      ]
    },
    {
      "cell_type": "code",
      "metadata": {
        "id": "oiAB17MiY9M5",
        "outputId": "80958b3d-b573-484b-d300-f992fa9437ba",
        "colab": {
          "base_uri": "https://localhost:8080/",
          "height": 53
        }
      },
      "source": [
        "# 무당벌레 이미지를 다운로드합니다\n",
        "\n",
        "import urllib\n",
        "\n",
        "DOWNLOAD_ROOT = \"https://raw.githubusercontent.com/rickiepark/handson-ml2/master/\"\n",
        "filename = \"ladybug.png\"\n",
        "print(\"Downloading\", filename)\n",
        "url = DOWNLOAD_ROOT + \"images/unsupervised_learning/\" + filename\n",
        "urllib.request.urlretrieve(url, filename)"
      ],
      "execution_count": null,
      "outputs": [
        {
          "output_type": "stream",
          "text": [
            "Downloading ladybug.png\n"
          ],
          "name": "stdout"
        },
        {
          "output_type": "execute_result",
          "data": {
            "text/plain": [
              "('ladybug.png', <http.client.HTTPMessage at 0x7fa51961a860>)"
            ]
          },
          "metadata": {
            "tags": []
          },
          "execution_count": 26
        }
      ]
    },
    {
      "cell_type": "code",
      "metadata": {
        "id": "waZ9SAPyZeV2",
        "outputId": "96cc0d86-5937-4472-b4f6-3c092785b33d",
        "colab": {
          "base_uri": "https://localhost:8080/",
          "height": 35
        }
      },
      "source": [
        "!ls"
      ],
      "execution_count": null,
      "outputs": [
        {
          "output_type": "stream",
          "text": [
            "ladybug.png  sample_data\n"
          ],
          "name": "stdout"
        }
      ]
    },
    {
      "cell_type": "code",
      "metadata": {
        "id": "mrtjGeSeZjim",
        "outputId": "bcb89aad-d8b5-47d0-bb98-8aeefb39f3d9",
        "colab": {
          "base_uri": "https://localhost:8080/",
          "height": 35
        }
      },
      "source": [
        "from matplotlib.image import imread    # or 'from imageio import imread'\n",
        "image = imread('ladybug.png')\n",
        "image.shape    # (높이, 너비, 컬러 채널 개수(RGB)), 0과 1 사이"
      ],
      "execution_count": null,
      "outputs": [
        {
          "output_type": "execute_result",
          "data": {
            "text/plain": [
              "(533, 800, 3)"
            ]
          },
          "metadata": {
            "tags": []
          },
          "execution_count": 28
        }
      ]
    },
    {
      "cell_type": "code",
      "metadata": {
        "id": "-stHHot_ZvX9"
      },
      "source": [
        "# RGB 색상의 긴 리스트로 변환한 다음 k-평균을 사용해 이 색상을 클러스터로 모읍니다.\n",
        "\n",
        "X = image.reshape(-1, 3)\n",
        "kmeans = KMeans(n_clusters=8).fit(X)\n",
        "segmented_img = kmeans.cluster_centers_[kmeans.labels_]\n",
        "segmented_img = segmented_img.reshape(image.shape)"
      ],
      "execution_count": null,
      "outputs": []
    },
    {
      "cell_type": "code",
      "metadata": {
        "id": "-8ZPZw9-a3EJ"
      },
      "source": [
        "segmented_imgs = []\n",
        "n_colors = (10, 8, 6, 4, 2)\n",
        "for n_clusters in n_colors:\n",
        "    kmeans = KMeans(n_clusters=n_clusters, random_state=42).fit(X)\n",
        "    segmented_img = kmeans.cluster_centers_[kmeans.labels_]\n",
        "    segmented_imgs.append(segmented_img.reshape(image.shape))"
      ],
      "execution_count": null,
      "outputs": []
    },
    {
      "cell_type": "code",
      "metadata": {
        "id": "9tBzFwiTbaTL",
        "outputId": "c7bef949-54cf-4f75-9ae4-7e921ce58651",
        "colab": {
          "base_uri": "https://localhost:8080/",
          "height": 309
        }
      },
      "source": [
        "plt.figure(figsize=(10,5))\n",
        "plt.subplots_adjust(wspace=0.05, hspace=0.1)\n",
        "\n",
        "plt.subplot(231)\n",
        "plt.imshow(image)\n",
        "plt.title(\"Original image\")\n",
        "plt.axis('off')\n",
        "\n",
        "for idx, n_clusters in enumerate(n_colors):\n",
        "    plt.subplot(232 + idx)\n",
        "    plt.imshow(segmented_imgs[idx])\n",
        "    plt.title(\"{} colors\".format(n_clusters))\n",
        "    plt.axis('off')\n",
        "\n",
        "# save_fig('image_segmentation_diagram', tight_layout=False)\n",
        "plt.show()"
      ],
      "execution_count": null,
      "outputs": [
        {
          "output_type": "display_data",
          "data": {
            "image/png": "[encoded data removed]",
            "text/plain": [
              "<Figure size 720x360 with 6 Axes>"
            ]
          },
          "metadata": {
            "tags": [],
            "needs_background": "light"
          }
        }
      ]
    },
    {
      "cell_type": "markdown",
      "metadata": {
        "id": "avpkg2IfbkWJ"
      },
      "source": [
        "### 4. 군집을 사용한 전처리"
      ]
    },
    {
      "cell_type": "code",
      "metadata": {
        "id": "H66kDKS9bn52"
      },
      "source": [
        "from sklearn.datasets import load_digits\n",
        "\n",
        "X_digits, y_digits = load_digits(return_X_y=True)"
      ],
      "execution_count": null,
      "outputs": []
    },
    {
      "cell_type": "code",
      "metadata": {
        "id": "ggzxG5Afb7WV"
      },
      "source": [
        "from sklearn.model_selection import train_test_split\n",
        "\n",
        "X_train, X_test, y_train, y_test = train_test_split(X_digits, y_digits)"
      ],
      "execution_count": null,
      "outputs": []
    },
    {
      "cell_type": "code",
      "metadata": {
        "id": "mpr-nltYcFL4",
        "outputId": "afd04610-0bec-4a02-f657-24c5f3593127",
        "colab": {
          "base_uri": "https://localhost:8080/",
          "height": 108
        }
      },
      "source": [
        "from sklearn.linear_model import LogisticRegression\n",
        "\n",
        "log_reg = LogisticRegression(multi_class=\"ovr\", solver=\"lbfgs\", max_iter=5000, random_state=42)\n",
        "log_reg.fit(X_train, y_train)"
      ],
      "execution_count": null,
      "outputs": [
        {
          "output_type": "execute_result",
          "data": {
            "text/plain": [
              "LogisticRegression(C=1.0, class_weight=None, dual=False, fit_intercept=True,\n",
              "                   intercept_scaling=1, l1_ratio=None, max_iter=5000,\n",
              "                   multi_class='ovr', n_jobs=None, penalty='l2',\n",
              "                   random_state=42, solver='lbfgs', tol=0.0001, verbose=0,\n",
              "                   warm_start=False)"
            ]
          },
          "metadata": {
            "tags": []
          },
          "execution_count": 44
        }
      ]
    },
    {
      "cell_type": "code",
      "metadata": {
        "id": "E7ZNa4sCcNYf",
        "outputId": "124758c5-cc2a-483f-8481-51b6cd6e8f5b",
        "colab": {
          "base_uri": "https://localhost:8080/",
          "height": 35
        }
      },
      "source": [
        "log_reg.score(X_test, y_test)"
      ],
      "execution_count": null,
      "outputs": [
        {
          "output_type": "execute_result",
          "data": {
            "text/plain": [
              "0.9555555555555556"
            ]
          },
          "metadata": {
            "tags": []
          },
          "execution_count": 45
        }
      ]
    },
    {
      "cell_type": "code",
      "metadata": {
        "id": "udakfVYncPrO",
        "outputId": "13c6e2fd-c9fc-40c4-9319-0bdcd98e74d4",
        "colab": {
          "base_uri": "https://localhost:8080/",
          "height": 289
        }
      },
      "source": [
        "# k-평균을 전처리 단계로 사용하는 방법\n",
        "\n",
        "from sklearn.pipeline import Pipeline\n",
        "\n",
        "pipeline = Pipeline([\n",
        "    (\"kmeans\", KMeans(n_clusters=50, random_state=42)),\n",
        "    (\"log_reg\", LogisticRegression(multi_class=\"ovr\", solver=\"lbfgs\", max_iter=5000, random_state=42)),\n",
        "])\n",
        "pipeline.fit(X_train, y_train)"
      ],
      "execution_count": null,
      "outputs": [
        {
          "output_type": "execute_result",
          "data": {
            "text/plain": [
              "Pipeline(memory=None,\n",
              "         steps=[('kmeans',\n",
              "                 KMeans(algorithm='auto', copy_x=True, init='k-means++',\n",
              "                        max_iter=300, n_clusters=50, n_init=10, n_jobs=None,\n",
              "                        precompute_distances='auto', random_state=42,\n",
              "                        tol=0.0001, verbose=0)),\n",
              "                ('log_reg',\n",
              "                 LogisticRegression(C=1.0, class_weight=None, dual=False,\n",
              "                                    fit_intercept=True, intercept_scaling=1,\n",
              "                                    l1_ratio=None, max_iter=5000,\n",
              "                                    multi_class='ovr', n_jobs=None,\n",
              "                                    penalty='l2', random_state=42,\n",
              "                                    solver='lbfgs', tol=0.0001, verbose=0,\n",
              "                                    warm_start=False))],\n",
              "         verbose=False)"
            ]
          },
          "metadata": {
            "tags": []
          },
          "execution_count": 46
        }
      ]
    },
    {
      "cell_type": "code",
      "metadata": {
        "id": "qhoBMD3ccu7Z",
        "outputId": "de09d732-9911-4aea-d086-89abbc7f956e",
        "colab": {
          "base_uri": "https://localhost:8080/",
          "height": 35
        }
      },
      "source": [
        "pipeline.score(X_test, y_test)"
      ],
      "execution_count": null,
      "outputs": [
        {
          "output_type": "execute_result",
          "data": {
            "text/plain": [
              "0.9733333333333334"
            ]
          },
          "metadata": {
            "tags": []
          },
          "execution_count": 47
        }
      ]
    },
    {
      "cell_type": "code",
      "metadata": {
        "id": "Gp-V8Plac3dX",
        "outputId": "2313f7c5-5e27-4366-dea0-2fcced609338",
        "colab": {
          "base_uri": "https://localhost:8080/",
          "height": 1000
        }
      },
      "source": [
        "# GridSearchCV를 사용해 최적의 클러스터 개수 탐색\n",
        "\n",
        "from sklearn.model_selection import GridSearchCV\n",
        "\n",
        "param_grid = dict(kmeans__n_clusters=range(2, 100))\n",
        "grid_clf = GridSearchCV(pipeline, param_grid, cv=3, verbose=2)\n",
        "grid_clf.fit(X_train, y_train)"
      ],
      "execution_count": null,
      "outputs": [
        {
          "output_type": "stream",
          "text": [
            "Fitting 3 folds for each of 98 candidates, totalling 294 fits\n",
            "[CV] kmeans__n_clusters=2 ............................................\n",
            "[CV] ............................. kmeans__n_clusters=2, total=   0.2s\n",
            "[CV] kmeans__n_clusters=2 ............................................\n"
          ],
          "name": "stdout"
        },
        {
          "output_type": "stream",
          "text": [
            "[Parallel(n_jobs=1)]: Using backend SequentialBackend with 1 concurrent workers.\n",
            "[Parallel(n_jobs=1)]: Done   1 out of   1 | elapsed:    0.2s remaining:    0.0s\n"
          ],
          "name": "stderr"
        },
        {
          "output_type": "stream",
          "text": [
            "[CV] ............................. kmeans__n_clusters=2, total=   0.2s\n",
            "[CV] kmeans__n_clusters=2 ............................................\n",
            "[CV] ............................. kmeans__n_clusters=2, total=   0.2s\n",
            "[CV] kmeans__n_clusters=3 ............................................\n",
            "[CV] ............................. kmeans__n_clusters=3, total=   0.3s\n",
            "[CV] kmeans__n_clusters=3 ............................................\n",
            "[CV] ............................. kmeans__n_clusters=3, total=   0.2s\n",
            "[CV] kmeans__n_clusters=3 ............................................\n",
            "[CV] ............................. kmeans__n_clusters=3, total=   0.3s\n",
            "[CV] kmeans__n_clusters=4 ............................................\n",
            "[CV] ............................. kmeans__n_clusters=4, total=   0.3s\n",
            "[CV] kmeans__n_clusters=4 ............................................\n",
            "[CV] ............................. kmeans__n_clusters=4, total=   0.3s\n",
            "[CV] kmeans__n_clusters=4 ............................................\n",
            "[CV] ............................. kmeans__n_clusters=4, total=   0.3s\n",
            "[CV] kmeans__n_clusters=5 ............................................\n",
            "[CV] ............................. kmeans__n_clusters=5, total=   0.3s\n",
            "[CV] kmeans__n_clusters=5 ............................................\n",
            "[CV] ............................. kmeans__n_clusters=5, total=   0.4s\n",
            "[CV] kmeans__n_clusters=5 ............................................\n",
            "[CV] ............................. kmeans__n_clusters=5, total=   0.3s\n",
            "[CV] kmeans__n_clusters=6 ............................................\n",
            "[CV] ............................. kmeans__n_clusters=6, total=   0.4s\n",
            "[CV] kmeans__n_clusters=6 ............................................\n",
            "[CV] ............................. kmeans__n_clusters=6, total=   0.4s\n",
            "[CV] kmeans__n_clusters=6 ............................................\n",
            "[CV] ............................. kmeans__n_clusters=6, total=   0.4s\n",
            "[CV] kmeans__n_clusters=7 ............................................\n",
            "[CV] ............................. kmeans__n_clusters=7, total=   0.5s\n",
            "[CV] kmeans__n_clusters=7 ............................................\n",
            "[CV] ............................. kmeans__n_clusters=7, total=   0.5s\n",
            "[CV] kmeans__n_clusters=7 ............................................\n",
            "[CV] ............................. kmeans__n_clusters=7, total=   0.5s\n",
            "[CV] kmeans__n_clusters=8 ............................................\n",
            "[CV] ............................. kmeans__n_clusters=8, total=   0.5s\n",
            "[CV] kmeans__n_clusters=8 ............................................\n",
            "[CV] ............................. kmeans__n_clusters=8, total=   0.6s\n",
            "[CV] kmeans__n_clusters=8 ............................................\n",
            "[CV] ............................. kmeans__n_clusters=8, total=   0.5s\n",
            "[CV] kmeans__n_clusters=9 ............................................\n",
            "[CV] ............................. kmeans__n_clusters=9, total=   0.7s\n",
            "[CV] kmeans__n_clusters=9 ............................................\n",
            "[CV] ............................. kmeans__n_clusters=9, total=   0.7s\n",
            "[CV] kmeans__n_clusters=9 ............................................\n",
            "[CV] ............................. kmeans__n_clusters=9, total=   0.7s\n",
            "[CV] kmeans__n_clusters=10 ...........................................\n",
            "[CV] ............................ kmeans__n_clusters=10, total=   0.8s\n",
            "[CV] kmeans__n_clusters=10 ...........................................\n",
            "[CV] ............................ kmeans__n_clusters=10, total=   0.9s\n",
            "[CV] kmeans__n_clusters=10 ...........................................\n",
            "[CV] ............................ kmeans__n_clusters=10, total=   0.9s\n",
            "[CV] kmeans__n_clusters=11 ...........................................\n",
            "[CV] ............................ kmeans__n_clusters=11, total=   1.3s\n",
            "[CV] kmeans__n_clusters=11 ...........................................\n",
            "[CV] ............................ kmeans__n_clusters=11, total=   1.4s\n",
            "[CV] kmeans__n_clusters=11 ...........................................\n",
            "[CV] ............................ kmeans__n_clusters=11, total=   1.2s\n",
            "[CV] kmeans__n_clusters=12 ...........................................\n",
            "[CV] ............................ kmeans__n_clusters=12, total=   1.6s\n",
            "[CV] kmeans__n_clusters=12 ...........................................\n",
            "[CV] ............................ kmeans__n_clusters=12, total=   1.6s\n",
            "[CV] kmeans__n_clusters=12 ...........................................\n",
            "[CV] ............................ kmeans__n_clusters=12, total=   1.5s\n",
            "[CV] kmeans__n_clusters=13 ...........................................\n",
            "[CV] ............................ kmeans__n_clusters=13, total=   1.8s\n",
            "[CV] kmeans__n_clusters=13 ...........................................\n",
            "[CV] ............................ kmeans__n_clusters=13, total=   1.9s\n",
            "[CV] kmeans__n_clusters=13 ...........................................\n",
            "[CV] ............................ kmeans__n_clusters=13, total=   1.7s\n",
            "[CV] kmeans__n_clusters=14 ...........................................\n",
            "[CV] ............................ kmeans__n_clusters=14, total=   2.1s\n",
            "[CV] kmeans__n_clusters=14 ...........................................\n",
            "[CV] ............................ kmeans__n_clusters=14, total=   2.1s\n",
            "[CV] kmeans__n_clusters=14 ...........................................\n",
            "[CV] ............................ kmeans__n_clusters=14, total=   1.9s\n",
            "[CV] kmeans__n_clusters=15 ...........................................\n",
            "[CV] ............................ kmeans__n_clusters=15, total=   2.5s\n",
            "[CV] kmeans__n_clusters=15 ...........................................\n",
            "[CV] ............................ kmeans__n_clusters=15, total=   2.3s\n",
            "[CV] kmeans__n_clusters=15 ...........................................\n",
            "[CV] ............................ kmeans__n_clusters=15, total=   2.4s\n",
            "[CV] kmeans__n_clusters=16 ...........................................\n",
            "[CV] ............................ kmeans__n_clusters=16, total=   2.4s\n",
            "[CV] kmeans__n_clusters=16 ...........................................\n",
            "[CV] ............................ kmeans__n_clusters=16, total=   2.6s\n",
            "[CV] kmeans__n_clusters=16 ...........................................\n",
            "[CV] ............................ kmeans__n_clusters=16, total=   2.4s\n",
            "[CV] kmeans__n_clusters=17 ...........................................\n",
            "[CV] ............................ kmeans__n_clusters=17, total=   2.8s\n",
            "[CV] kmeans__n_clusters=17 ...........................................\n",
            "[CV] ............................ kmeans__n_clusters=17, total=   2.7s\n",
            "[CV] kmeans__n_clusters=17 ...........................................\n",
            "[CV] ............................ kmeans__n_clusters=17, total=   2.9s\n",
            "[CV] kmeans__n_clusters=18 ...........................................\n",
            "[CV] ............................ kmeans__n_clusters=18, total=   3.2s\n",
            "[CV] kmeans__n_clusters=18 ...........................................\n",
            "[CV] ............................ kmeans__n_clusters=18, total=   3.1s\n",
            "[CV] kmeans__n_clusters=18 ...........................................\n",
            "[CV] ............................ kmeans__n_clusters=18, total=   2.7s\n",
            "[CV] kmeans__n_clusters=19 ...........................................\n",
            "[CV] ............................ kmeans__n_clusters=19, total=   3.4s\n",
            "[CV] kmeans__n_clusters=19 ...........................................\n",
            "[CV] ............................ kmeans__n_clusters=19, total=   2.9s\n",
            "[CV] kmeans__n_clusters=19 ...........................................\n",
            "[CV] ............................ kmeans__n_clusters=19, total=   3.3s\n",
            "[CV] kmeans__n_clusters=20 ...........................................\n",
            "[CV] ............................ kmeans__n_clusters=20, total=   3.4s\n",
            "[CV] kmeans__n_clusters=20 ...........................................\n",
            "[CV] ............................ kmeans__n_clusters=20, total=   3.3s\n",
            "[CV] kmeans__n_clusters=20 ...........................................\n",
            "[CV] ............................ kmeans__n_clusters=20, total=   3.0s\n",
            "[CV] kmeans__n_clusters=21 ...........................................\n",
            "[CV] ............................ kmeans__n_clusters=21, total=   3.5s\n",
            "[CV] kmeans__n_clusters=21 ...........................................\n",
            "[CV] ............................ kmeans__n_clusters=21, total=   3.5s\n",
            "[CV] kmeans__n_clusters=21 ...........................................\n",
            "[CV] ............................ kmeans__n_clusters=21, total=   3.7s\n",
            "[CV] kmeans__n_clusters=22 ...........................................\n",
            "[CV] ............................ kmeans__n_clusters=22, total=   3.8s\n",
            "[CV] kmeans__n_clusters=22 ...........................................\n",
            "[CV] ............................ kmeans__n_clusters=22, total=   3.7s\n",
            "[CV] kmeans__n_clusters=22 ...........................................\n",
            "[CV] ............................ kmeans__n_clusters=22, total=   3.6s\n",
            "[CV] kmeans__n_clusters=23 ...........................................\n",
            "[CV] ............................ kmeans__n_clusters=23, total=   3.7s\n",
            "[CV] kmeans__n_clusters=23 ...........................................\n",
            "[CV] ............................ kmeans__n_clusters=23, total=   3.8s\n",
            "[CV] kmeans__n_clusters=23 ...........................................\n",
            "[CV] ............................ kmeans__n_clusters=23, total=   3.9s\n",
            "[CV] kmeans__n_clusters=24 ...........................................\n",
            "[CV] ............................ kmeans__n_clusters=24, total=   4.0s\n",
            "[CV] kmeans__n_clusters=24 ...........................................\n",
            "[CV] ............................ kmeans__n_clusters=24, total=   3.9s\n",
            "[CV] kmeans__n_clusters=24 ...........................................\n",
            "[CV] ............................ kmeans__n_clusters=24, total=   3.9s\n",
            "[CV] kmeans__n_clusters=25 ...........................................\n",
            "[CV] ............................ kmeans__n_clusters=25, total=   4.1s\n",
            "[CV] kmeans__n_clusters=25 ...........................................\n",
            "[CV] ............................ kmeans__n_clusters=25, total=   4.3s\n",
            "[CV] kmeans__n_clusters=25 ...........................................\n",
            "[CV] ............................ kmeans__n_clusters=25, total=   3.8s\n",
            "[CV] kmeans__n_clusters=26 ...........................................\n",
            "[CV] ............................ kmeans__n_clusters=26, total=   4.9s\n",
            "[CV] kmeans__n_clusters=26 ...........................................\n",
            "[CV] ............................ kmeans__n_clusters=26, total=   5.0s\n",
            "[CV] kmeans__n_clusters=26 ...........................................\n",
            "[CV] ............................ kmeans__n_clusters=26, total=   4.1s\n",
            "[CV] kmeans__n_clusters=27 ...........................................\n",
            "[CV] ............................ kmeans__n_clusters=27, total=   4.3s\n",
            "[CV] kmeans__n_clusters=27 ...........................................\n",
            "[CV] ............................ kmeans__n_clusters=27, total=   4.6s\n",
            "[CV] kmeans__n_clusters=27 ...........................................\n",
            "[CV] ............................ kmeans__n_clusters=27, total=   4.2s\n",
            "[CV] kmeans__n_clusters=28 ...........................................\n",
            "[CV] ............................ kmeans__n_clusters=28, total=   4.3s\n",
            "[CV] kmeans__n_clusters=28 ...........................................\n",
            "[CV] ............................ kmeans__n_clusters=28, total=   4.3s\n",
            "[CV] kmeans__n_clusters=28 ...........................................\n",
            "[CV] ............................ kmeans__n_clusters=28, total=   4.2s\n",
            "[CV] kmeans__n_clusters=29 ...........................................\n",
            "[CV] ............................ kmeans__n_clusters=29, total=   4.7s\n",
            "[CV] kmeans__n_clusters=29 ...........................................\n",
            "[CV] ............................ kmeans__n_clusters=29, total=   4.3s\n",
            "[CV] kmeans__n_clusters=29 ...........................................\n",
            "[CV] ............................ kmeans__n_clusters=29, total=   4.5s\n",
            "[CV] kmeans__n_clusters=30 ...........................................\n",
            "[CV] ............................ kmeans__n_clusters=30, total=   5.0s\n",
            "[CV] kmeans__n_clusters=30 ...........................................\n",
            "[CV] ............................ kmeans__n_clusters=30, total=   4.7s\n",
            "[CV] kmeans__n_clusters=30 ...........................................\n",
            "[CV] ............................ kmeans__n_clusters=30, total=   4.6s\n",
            "[CV] kmeans__n_clusters=31 ...........................................\n",
            "[CV] ............................ kmeans__n_clusters=31, total=   4.9s\n",
            "[CV] kmeans__n_clusters=31 ...........................................\n",
            "[CV] ............................ kmeans__n_clusters=31, total=   5.1s\n",
            "[CV] kmeans__n_clusters=31 ...........................................\n",
            "[CV] ............................ kmeans__n_clusters=31, total=   4.6s\n",
            "[CV] kmeans__n_clusters=32 ...........................................\n",
            "[CV] ............................ kmeans__n_clusters=32, total=   4.9s\n",
            "[CV] kmeans__n_clusters=32 ...........................................\n",
            "[CV] ............................ kmeans__n_clusters=32, total=   5.3s\n",
            "[CV] kmeans__n_clusters=32 ...........................................\n",
            "[CV] ............................ kmeans__n_clusters=32, total=   4.2s\n",
            "[CV] kmeans__n_clusters=33 ...........................................\n",
            "[CV] ............................ kmeans__n_clusters=33, total=   4.8s\n",
            "[CV] kmeans__n_clusters=33 ...........................................\n",
            "[CV] ............................ kmeans__n_clusters=33, total=   4.8s\n",
            "[CV] kmeans__n_clusters=33 ...........................................\n",
            "[CV] ............................ kmeans__n_clusters=33, total=   4.5s\n",
            "[CV] kmeans__n_clusters=34 ...........................................\n",
            "[CV] ............................ kmeans__n_clusters=34, total=   4.8s\n",
            "[CV] kmeans__n_clusters=34 ...........................................\n",
            "[CV] ............................ kmeans__n_clusters=34, total=   5.6s\n",
            "[CV] kmeans__n_clusters=34 ...........................................\n",
            "[CV] ............................ kmeans__n_clusters=34, total=   4.9s\n",
            "[CV] kmeans__n_clusters=35 ...........................................\n",
            "[CV] ............................ kmeans__n_clusters=35, total=   4.8s\n",
            "[CV] kmeans__n_clusters=35 ...........................................\n",
            "[CV] ............................ kmeans__n_clusters=35, total=   4.9s\n",
            "[CV] kmeans__n_clusters=35 ...........................................\n",
            "[CV] ............................ kmeans__n_clusters=35, total=   5.3s\n",
            "[CV] kmeans__n_clusters=36 ...........................................\n",
            "[CV] ............................ kmeans__n_clusters=36, total=   5.0s\n",
            "[CV] kmeans__n_clusters=36 ...........................................\n",
            "[CV] ............................ kmeans__n_clusters=36, total=   5.3s\n",
            "[CV] kmeans__n_clusters=36 ...........................................\n",
            "[CV] ............................ kmeans__n_clusters=36, total=   5.1s\n",
            "[CV] kmeans__n_clusters=37 ...........................................\n",
            "[CV] ............................ kmeans__n_clusters=37, total=   5.1s\n",
            "[CV] kmeans__n_clusters=37 ...........................................\n",
            "[CV] ............................ kmeans__n_clusters=37, total=   5.3s\n",
            "[CV] kmeans__n_clusters=37 ...........................................\n",
            "[CV] ............................ kmeans__n_clusters=37, total=   4.8s\n",
            "[CV] kmeans__n_clusters=38 ...........................................\n",
            "[CV] ............................ kmeans__n_clusters=38, total=   5.3s\n",
            "[CV] kmeans__n_clusters=38 ...........................................\n",
            "[CV] ............................ kmeans__n_clusters=38, total=   5.3s\n",
            "[CV] kmeans__n_clusters=38 ...........................................\n",
            "[CV] ............................ kmeans__n_clusters=38, total=   4.4s\n",
            "[CV] kmeans__n_clusters=39 ...........................................\n",
            "[CV] ............................ kmeans__n_clusters=39, total=   5.1s\n",
            "[CV] kmeans__n_clusters=39 ...........................................\n",
            "[CV] ............................ kmeans__n_clusters=39, total=   5.9s\n",
            "[CV] kmeans__n_clusters=39 ...........................................\n",
            "[CV] ............................ kmeans__n_clusters=39, total=   4.9s\n",
            "[CV] kmeans__n_clusters=40 ...........................................\n",
            "[CV] ............................ kmeans__n_clusters=40, total=   5.3s\n",
            "[CV] kmeans__n_clusters=40 ...........................................\n",
            "[CV] ............................ kmeans__n_clusters=40, total=   5.7s\n",
            "[CV] kmeans__n_clusters=40 ...........................................\n",
            "[CV] ............................ kmeans__n_clusters=40, total=   5.1s\n",
            "[CV] kmeans__n_clusters=41 ...........................................\n",
            "[CV] ............................ kmeans__n_clusters=41, total=   5.4s\n",
            "[CV] kmeans__n_clusters=41 ...........................................\n",
            "[CV] ............................ kmeans__n_clusters=41, total=   4.8s\n",
            "[CV] kmeans__n_clusters=41 ...........................................\n",
            "[CV] ............................ kmeans__n_clusters=41, total=   5.1s\n",
            "[CV] kmeans__n_clusters=42 ...........................................\n",
            "[CV] ............................ kmeans__n_clusters=42, total=   5.3s\n",
            "[CV] kmeans__n_clusters=42 ...........................................\n",
            "[CV] ............................ kmeans__n_clusters=42, total=   5.3s\n",
            "[CV] kmeans__n_clusters=42 ...........................................\n",
            "[CV] ............................ kmeans__n_clusters=42, total=   5.7s\n",
            "[CV] kmeans__n_clusters=43 ...........................................\n",
            "[CV] ............................ kmeans__n_clusters=43, total=   5.3s\n",
            "[CV] kmeans__n_clusters=43 ...........................................\n",
            "[CV] ............................ kmeans__n_clusters=43, total=   5.8s\n",
            "[CV] kmeans__n_clusters=43 ...........................................\n",
            "[CV] ............................ kmeans__n_clusters=43, total=   5.1s\n",
            "[CV] kmeans__n_clusters=44 ...........................................\n",
            "[CV] ............................ kmeans__n_clusters=44, total=   5.4s\n",
            "[CV] kmeans__n_clusters=44 ...........................................\n",
            "[CV] ............................ kmeans__n_clusters=44, total=   5.0s\n",
            "[CV] kmeans__n_clusters=44 ...........................................\n",
            "[CV] ............................ kmeans__n_clusters=44, total=   5.5s\n",
            "[CV] kmeans__n_clusters=45 ...........................................\n",
            "[CV] ............................ kmeans__n_clusters=45, total=   4.5s\n",
            "[CV] kmeans__n_clusters=45 ...........................................\n",
            "[CV] ............................ kmeans__n_clusters=45, total=   5.4s\n",
            "[CV] kmeans__n_clusters=45 ...........................................\n",
            "[CV] ............................ kmeans__n_clusters=45, total=   5.4s\n",
            "[CV] kmeans__n_clusters=46 ...........................................\n",
            "[CV] ............................ kmeans__n_clusters=46, total=   5.0s\n",
            "[CV] kmeans__n_clusters=46 ...........................................\n",
            "[CV] ............................ kmeans__n_clusters=46, total=   5.9s\n",
            "[CV] kmeans__n_clusters=46 ...........................................\n",
            "[CV] ............................ kmeans__n_clusters=46, total=   5.8s\n",
            "[CV] kmeans__n_clusters=47 ...........................................\n",
            "[CV] ............................ kmeans__n_clusters=47, total=   4.8s\n",
            "[CV] kmeans__n_clusters=47 ...........................................\n",
            "[CV] ............................ kmeans__n_clusters=47, total=   5.6s\n",
            "[CV] kmeans__n_clusters=47 ...........................................\n",
            "[CV] ............................ kmeans__n_clusters=47, total=   4.9s\n",
            "[CV] kmeans__n_clusters=48 ...........................................\n",
            "[CV] ............................ kmeans__n_clusters=48, total=   5.0s\n",
            "[CV] kmeans__n_clusters=48 ...........................................\n",
            "[CV] ............................ kmeans__n_clusters=48, total=   5.5s\n",
            "[CV] kmeans__n_clusters=48 ...........................................\n",
            "[CV] ............................ kmeans__n_clusters=48, total=   5.0s\n",
            "[CV] kmeans__n_clusters=49 ...........................................\n",
            "[CV] ............................ kmeans__n_clusters=49, total=   4.3s\n",
            "[CV] kmeans__n_clusters=49 ...........................................\n",
            "[CV] ............................ kmeans__n_clusters=49, total=   6.2s\n",
            "[CV] kmeans__n_clusters=49 ...........................................\n",
            "[CV] ............................ kmeans__n_clusters=49, total=   5.4s\n",
            "[CV] kmeans__n_clusters=50 ...........................................\n",
            "[CV] ............................ kmeans__n_clusters=50, total=   5.4s\n",
            "[CV] kmeans__n_clusters=50 ...........................................\n",
            "[CV] ............................ kmeans__n_clusters=50, total=   5.4s\n",
            "[CV] kmeans__n_clusters=50 ...........................................\n",
            "[CV] ............................ kmeans__n_clusters=50, total=   5.3s\n",
            "[CV] kmeans__n_clusters=51 ...........................................\n",
            "[CV] ............................ kmeans__n_clusters=51, total=   5.8s\n",
            "[CV] kmeans__n_clusters=51 ...........................................\n",
            "[CV] ............................ kmeans__n_clusters=51, total=   5.2s\n",
            "[CV] kmeans__n_clusters=51 ...........................................\n",
            "[CV] ............................ kmeans__n_clusters=51, total=   5.3s\n",
            "[CV] kmeans__n_clusters=52 ...........................................\n",
            "[CV] ............................ kmeans__n_clusters=52, total=   5.1s\n",
            "[CV] kmeans__n_clusters=52 ...........................................\n",
            "[CV] ............................ kmeans__n_clusters=52, total=   6.3s\n",
            "[CV] kmeans__n_clusters=52 ...........................................\n",
            "[CV] ............................ kmeans__n_clusters=52, total=   5.6s\n",
            "[CV] kmeans__n_clusters=53 ...........................................\n",
            "[CV] ............................ kmeans__n_clusters=53, total=   5.6s\n",
            "[CV] kmeans__n_clusters=53 ...........................................\n",
            "[CV] ............................ kmeans__n_clusters=53, total=   5.6s\n",
            "[CV] kmeans__n_clusters=53 ...........................................\n",
            "[CV] ............................ kmeans__n_clusters=53, total=   6.3s\n",
            "[CV] kmeans__n_clusters=54 ...........................................\n",
            "[CV] ............................ kmeans__n_clusters=54, total=   5.4s\n",
            "[CV] kmeans__n_clusters=54 ...........................................\n",
            "[CV] ............................ kmeans__n_clusters=54, total=   6.7s\n",
            "[CV] kmeans__n_clusters=54 ...........................................\n",
            "[CV] ............................ kmeans__n_clusters=54, total=   5.3s\n",
            "[CV] kmeans__n_clusters=55 ...........................................\n",
            "[CV] ............................ kmeans__n_clusters=55, total=   5.6s\n",
            "[CV] kmeans__n_clusters=55 ...........................................\n",
            "[CV] ............................ kmeans__n_clusters=55, total=   6.3s\n",
            "[CV] kmeans__n_clusters=55 ...........................................\n",
            "[CV] ............................ kmeans__n_clusters=55, total=   5.3s\n",
            "[CV] kmeans__n_clusters=56 ...........................................\n",
            "[CV] ............................ kmeans__n_clusters=56, total=   5.6s\n",
            "[CV] kmeans__n_clusters=56 ...........................................\n",
            "[CV] ............................ kmeans__n_clusters=56, total=   5.9s\n",
            "[CV] kmeans__n_clusters=56 ...........................................\n",
            "[CV] ............................ kmeans__n_clusters=56, total=   5.3s\n",
            "[CV] kmeans__n_clusters=57 ...........................................\n",
            "[CV] ............................ kmeans__n_clusters=57, total=   5.4s\n",
            "[CV] kmeans__n_clusters=57 ...........................................\n",
            "[CV] ............................ kmeans__n_clusters=57, total=   6.6s\n",
            "[CV] kmeans__n_clusters=57 ...........................................\n",
            "[CV] ............................ kmeans__n_clusters=57, total=   4.8s\n",
            "[CV] kmeans__n_clusters=58 ...........................................\n",
            "[CV] ............................ kmeans__n_clusters=58, total=   5.8s\n",
            "[CV] kmeans__n_clusters=58 ...........................................\n",
            "[CV] ............................ kmeans__n_clusters=58, total=   6.9s\n",
            "[CV] kmeans__n_clusters=58 ...........................................\n",
            "[CV] ............................ kmeans__n_clusters=58, total=   4.9s\n",
            "[CV] kmeans__n_clusters=59 ...........................................\n",
            "[CV] ............................ kmeans__n_clusters=59, total=   5.7s\n",
            "[CV] kmeans__n_clusters=59 ...........................................\n",
            "[CV] ............................ kmeans__n_clusters=59, total=   5.4s\n",
            "[CV] kmeans__n_clusters=59 ...........................................\n",
            "[CV] ............................ kmeans__n_clusters=59, total=   5.3s\n",
            "[CV] kmeans__n_clusters=60 ...........................................\n",
            "[CV] ............................ kmeans__n_clusters=60, total=   5.1s\n",
            "[CV] kmeans__n_clusters=60 ...........................................\n",
            "[CV] ............................ kmeans__n_clusters=60, total=   6.1s\n",
            "[CV] kmeans__n_clusters=60 ...........................................\n",
            "[CV] ............................ kmeans__n_clusters=60, total=   4.9s\n",
            "[CV] kmeans__n_clusters=61 ...........................................\n",
            "[CV] ............................ kmeans__n_clusters=61, total=   4.9s\n",
            "[CV] kmeans__n_clusters=61 ...........................................\n",
            "[CV] ............................ kmeans__n_clusters=61, total=   6.2s\n",
            "[CV] kmeans__n_clusters=61 ...........................................\n",
            "[CV] ............................ kmeans__n_clusters=61, total=   5.1s\n",
            "[CV] kmeans__n_clusters=62 ...........................................\n",
            "[CV] ............................ kmeans__n_clusters=62, total=   6.1s\n",
            "[CV] kmeans__n_clusters=62 ...........................................\n",
            "[CV] ............................ kmeans__n_clusters=62, total=   6.5s\n",
            "[CV] kmeans__n_clusters=62 ...........................................\n",
            "[CV] ............................ kmeans__n_clusters=62, total=   5.2s\n",
            "[CV] kmeans__n_clusters=63 ...........................................\n",
            "[CV] ............................ kmeans__n_clusters=63, total=   5.6s\n",
            "[CV] kmeans__n_clusters=63 ...........................................\n",
            "[CV] ............................ kmeans__n_clusters=63, total=   5.2s\n",
            "[CV] kmeans__n_clusters=63 ...........................................\n",
            "[CV] ............................ kmeans__n_clusters=63, total=   5.1s\n",
            "[CV] kmeans__n_clusters=64 ...........................................\n",
            "[CV] ............................ kmeans__n_clusters=64, total=   5.4s\n",
            "[CV] kmeans__n_clusters=64 ...........................................\n",
            "[CV] ............................ kmeans__n_clusters=64, total=   5.3s\n",
            "[CV] kmeans__n_clusters=64 ...........................................\n",
            "[CV] ............................ kmeans__n_clusters=64, total=   4.9s\n",
            "[CV] kmeans__n_clusters=65 ...........................................\n",
            "[CV] ............................ kmeans__n_clusters=65, total=   6.0s\n",
            "[CV] kmeans__n_clusters=65 ...........................................\n",
            "[CV] ............................ kmeans__n_clusters=65, total=   6.5s\n",
            "[CV] kmeans__n_clusters=65 ...........................................\n",
            "[CV] ............................ kmeans__n_clusters=65, total=   4.9s\n",
            "[CV] kmeans__n_clusters=66 ...........................................\n",
            "[CV] ............................ kmeans__n_clusters=66, total=   5.6s\n",
            "[CV] kmeans__n_clusters=66 ...........................................\n",
            "[CV] ............................ kmeans__n_clusters=66, total=   6.0s\n",
            "[CV] kmeans__n_clusters=66 ...........................................\n",
            "[CV] ............................ kmeans__n_clusters=66, total=   5.0s\n",
            "[CV] kmeans__n_clusters=67 ...........................................\n",
            "[CV] ............................ kmeans__n_clusters=67, total=   6.5s\n",
            "[CV] kmeans__n_clusters=67 ...........................................\n",
            "[CV] ............................ kmeans__n_clusters=67, total=   6.1s\n",
            "[CV] kmeans__n_clusters=67 ...........................................\n",
            "[CV] ............................ kmeans__n_clusters=67, total=   5.3s\n",
            "[CV] kmeans__n_clusters=68 ...........................................\n",
            "[CV] ............................ kmeans__n_clusters=68, total=   5.4s\n",
            "[CV] kmeans__n_clusters=68 ...........................................\n",
            "[CV] ............................ kmeans__n_clusters=68, total=   5.8s\n",
            "[CV] kmeans__n_clusters=68 ...........................................\n",
            "[CV] ............................ kmeans__n_clusters=68, total=   5.1s\n",
            "[CV] kmeans__n_clusters=69 ...........................................\n",
            "[CV] ............................ kmeans__n_clusters=69, total=   6.0s\n",
            "[CV] kmeans__n_clusters=69 ...........................................\n",
            "[CV] ............................ kmeans__n_clusters=69, total=   6.3s\n",
            "[CV] kmeans__n_clusters=69 ...........................................\n",
            "[CV] ............................ kmeans__n_clusters=69, total=   5.4s\n",
            "[CV] kmeans__n_clusters=70 ...........................................\n",
            "[CV] ............................ kmeans__n_clusters=70, total=   5.4s\n",
            "[CV] kmeans__n_clusters=70 ...........................................\n",
            "[CV] ............................ kmeans__n_clusters=70, total=   6.2s\n",
            "[CV] kmeans__n_clusters=70 ...........................................\n",
            "[CV] ............................ kmeans__n_clusters=70, total=   5.7s\n",
            "[CV] kmeans__n_clusters=71 ...........................................\n",
            "[CV] ............................ kmeans__n_clusters=71, total=   5.4s\n",
            "[CV] kmeans__n_clusters=71 ...........................................\n",
            "[CV] ............................ kmeans__n_clusters=71, total=   6.4s\n",
            "[CV] kmeans__n_clusters=71 ...........................................\n",
            "[CV] ............................ kmeans__n_clusters=71, total=   5.9s\n",
            "[CV] kmeans__n_clusters=72 ...........................................\n",
            "[CV] ............................ kmeans__n_clusters=72, total=   5.0s\n",
            "[CV] kmeans__n_clusters=72 ...........................................\n",
            "[CV] ............................ kmeans__n_clusters=72, total=   6.4s\n",
            "[CV] kmeans__n_clusters=72 ...........................................\n",
            "[CV] ............................ kmeans__n_clusters=72, total=   5.3s\n",
            "[CV] kmeans__n_clusters=73 ...........................................\n",
            "[CV] ............................ kmeans__n_clusters=73, total=   5.3s\n",
            "[CV] kmeans__n_clusters=73 ...........................................\n",
            "[CV] ............................ kmeans__n_clusters=73, total=   6.5s\n",
            "[CV] kmeans__n_clusters=73 ...........................................\n",
            "[CV] ............................ kmeans__n_clusters=73, total=   5.5s\n",
            "[CV] kmeans__n_clusters=74 ...........................................\n",
            "[CV] ............................ kmeans__n_clusters=74, total=   5.5s\n",
            "[CV] kmeans__n_clusters=74 ...........................................\n",
            "[CV] ............................ kmeans__n_clusters=74, total=   6.4s\n",
            "[CV] kmeans__n_clusters=74 ...........................................\n",
            "[CV] ............................ kmeans__n_clusters=74, total=   5.5s\n",
            "[CV] kmeans__n_clusters=75 ...........................................\n",
            "[CV] ............................ kmeans__n_clusters=75, total=   5.1s\n",
            "[CV] kmeans__n_clusters=75 ...........................................\n",
            "[CV] ............................ kmeans__n_clusters=75, total=   6.1s\n",
            "[CV] kmeans__n_clusters=75 ...........................................\n",
            "[CV] ............................ kmeans__n_clusters=75, total=   5.7s\n",
            "[CV] kmeans__n_clusters=76 ...........................................\n",
            "[CV] ............................ kmeans__n_clusters=76, total=   5.8s\n",
            "[CV] kmeans__n_clusters=76 ...........................................\n",
            "[CV] ............................ kmeans__n_clusters=76, total=   6.5s\n",
            "[CV] kmeans__n_clusters=76 ...........................................\n",
            "[CV] ............................ kmeans__n_clusters=76, total=   5.4s\n",
            "[CV] kmeans__n_clusters=77 ...........................................\n",
            "[CV] ............................ kmeans__n_clusters=77, total=   5.7s\n",
            "[CV] kmeans__n_clusters=77 ...........................................\n",
            "[CV] ............................ kmeans__n_clusters=77, total=   6.9s\n",
            "[CV] kmeans__n_clusters=77 ...........................................\n",
            "[CV] ............................ kmeans__n_clusters=77, total=   6.3s\n",
            "[CV] kmeans__n_clusters=78 ...........................................\n",
            "[CV] ............................ kmeans__n_clusters=78, total=   6.5s\n",
            "[CV] kmeans__n_clusters=78 ...........................................\n",
            "[CV] ............................ kmeans__n_clusters=78, total=   6.8s\n",
            "[CV] kmeans__n_clusters=78 ...........................................\n",
            "[CV] ............................ kmeans__n_clusters=78, total=   5.2s\n",
            "[CV] kmeans__n_clusters=79 ...........................................\n",
            "[CV] ............................ kmeans__n_clusters=79, total=   6.0s\n",
            "[CV] kmeans__n_clusters=79 ...........................................\n",
            "[CV] ............................ kmeans__n_clusters=79, total=   6.9s\n",
            "[CV] kmeans__n_clusters=79 ...........................................\n",
            "[CV] ............................ kmeans__n_clusters=79, total=   5.0s\n",
            "[CV] kmeans__n_clusters=80 ...........................................\n",
            "[CV] ............................ kmeans__n_clusters=80, total=   5.6s\n",
            "[CV] kmeans__n_clusters=80 ...........................................\n",
            "[CV] ............................ kmeans__n_clusters=80, total=   6.3s\n",
            "[CV] kmeans__n_clusters=80 ...........................................\n",
            "[CV] ............................ kmeans__n_clusters=80, total=   5.1s\n",
            "[CV] kmeans__n_clusters=81 ...........................................\n",
            "[CV] ............................ kmeans__n_clusters=81, total=   6.0s\n",
            "[CV] kmeans__n_clusters=81 ...........................................\n",
            "[CV] ............................ kmeans__n_clusters=81, total=   6.8s\n",
            "[CV] kmeans__n_clusters=81 ...........................................\n",
            "[CV] ............................ kmeans__n_clusters=81, total=   5.3s\n",
            "[CV] kmeans__n_clusters=82 ...........................................\n",
            "[CV] ............................ kmeans__n_clusters=82, total=   5.7s\n",
            "[CV] kmeans__n_clusters=82 ...........................................\n",
            "[CV] ............................ kmeans__n_clusters=82, total=   6.1s\n",
            "[CV] kmeans__n_clusters=82 ...........................................\n",
            "[CV] ............................ kmeans__n_clusters=82, total=   5.4s\n",
            "[CV] kmeans__n_clusters=83 ...........................................\n",
            "[CV] ............................ kmeans__n_clusters=83, total=   5.7s\n",
            "[CV] kmeans__n_clusters=83 ...........................................\n",
            "[CV] ............................ kmeans__n_clusters=83, total=   6.0s\n",
            "[CV] kmeans__n_clusters=83 ...........................................\n",
            "[CV] ............................ kmeans__n_clusters=83, total=   4.5s\n",
            "[CV] kmeans__n_clusters=84 ...........................................\n",
            "[CV] ............................ kmeans__n_clusters=84, total=   5.8s\n",
            "[CV] kmeans__n_clusters=84 ...........................................\n",
            "[CV] ............................ kmeans__n_clusters=84, total=   5.8s\n",
            "[CV] kmeans__n_clusters=84 ...........................................\n",
            "[CV] ............................ kmeans__n_clusters=84, total=   4.8s\n",
            "[CV] kmeans__n_clusters=85 ...........................................\n",
            "[CV] ............................ kmeans__n_clusters=85, total=   6.0s\n",
            "[CV] kmeans__n_clusters=85 ...........................................\n",
            "[CV] ............................ kmeans__n_clusters=85, total=   6.7s\n",
            "[CV] kmeans__n_clusters=85 ...........................................\n",
            "[CV] ............................ kmeans__n_clusters=85, total=   5.4s\n",
            "[CV] kmeans__n_clusters=86 ...........................................\n",
            "[CV] ............................ kmeans__n_clusters=86, total=   5.8s\n",
            "[CV] kmeans__n_clusters=86 ...........................................\n",
            "[CV] ............................ kmeans__n_clusters=86, total=   7.2s\n",
            "[CV] kmeans__n_clusters=86 ...........................................\n",
            "[CV] ............................ kmeans__n_clusters=86, total=   6.6s\n",
            "[CV] kmeans__n_clusters=87 ...........................................\n",
            "[CV] ............................ kmeans__n_clusters=87, total=   5.4s\n",
            "[CV] kmeans__n_clusters=87 ...........................................\n",
            "[CV] ............................ kmeans__n_clusters=87, total=   7.2s\n",
            "[CV] kmeans__n_clusters=87 ...........................................\n",
            "[CV] ............................ kmeans__n_clusters=87, total=   5.9s\n",
            "[CV] kmeans__n_clusters=88 ...........................................\n",
            "[CV] ............................ kmeans__n_clusters=88, total=   6.3s\n",
            "[CV] kmeans__n_clusters=88 ...........................................\n",
            "[CV] ............................ kmeans__n_clusters=88, total=   7.2s\n",
            "[CV] kmeans__n_clusters=88 ...........................................\n",
            "[CV] ............................ kmeans__n_clusters=88, total=   6.2s\n",
            "[CV] kmeans__n_clusters=89 ...........................................\n",
            "[CV] ............................ kmeans__n_clusters=89, total=   5.4s\n",
            "[CV] kmeans__n_clusters=89 ...........................................\n",
            "[CV] ............................ kmeans__n_clusters=89, total=   6.9s\n",
            "[CV] kmeans__n_clusters=89 ...........................................\n",
            "[CV] ............................ kmeans__n_clusters=89, total=   6.5s\n",
            "[CV] kmeans__n_clusters=90 ...........................................\n",
            "[CV] ............................ kmeans__n_clusters=90, total=   6.1s\n",
            "[CV] kmeans__n_clusters=90 ...........................................\n",
            "[CV] ............................ kmeans__n_clusters=90, total=   6.7s\n",
            "[CV] kmeans__n_clusters=90 ...........................................\n",
            "[CV] ............................ kmeans__n_clusters=90, total=   6.5s\n",
            "[CV] kmeans__n_clusters=91 ...........................................\n",
            "[CV] ............................ kmeans__n_clusters=91, total=   6.2s\n",
            "[CV] kmeans__n_clusters=91 ...........................................\n",
            "[CV] ............................ kmeans__n_clusters=91, total=   6.3s\n",
            "[CV] kmeans__n_clusters=91 ...........................................\n",
            "[CV] ............................ kmeans__n_clusters=91, total=   6.1s\n",
            "[CV] kmeans__n_clusters=92 ...........................................\n",
            "[CV] ............................ kmeans__n_clusters=92, total=   5.7s\n",
            "[CV] kmeans__n_clusters=92 ...........................................\n",
            "[CV] ............................ kmeans__n_clusters=92, total=   6.3s\n",
            "[CV] kmeans__n_clusters=92 ...........................................\n",
            "[CV] ............................ kmeans__n_clusters=92, total=   6.2s\n",
            "[CV] kmeans__n_clusters=93 ...........................................\n",
            "[CV] ............................ kmeans__n_clusters=93, total=   5.7s\n",
            "[CV] kmeans__n_clusters=93 ...........................................\n",
            "[CV] ............................ kmeans__n_clusters=93, total=   6.1s\n",
            "[CV] kmeans__n_clusters=93 ...........................................\n",
            "[CV] ............................ kmeans__n_clusters=93, total=   6.3s\n",
            "[CV] kmeans__n_clusters=94 ...........................................\n",
            "[CV] ............................ kmeans__n_clusters=94, total=   5.6s\n",
            "[CV] kmeans__n_clusters=94 ...........................................\n",
            "[CV] ............................ kmeans__n_clusters=94, total=   6.4s\n",
            "[CV] kmeans__n_clusters=94 ...........................................\n",
            "[CV] ............................ kmeans__n_clusters=94, total=   6.5s\n",
            "[CV] kmeans__n_clusters=95 ...........................................\n",
            "[CV] ............................ kmeans__n_clusters=95, total=   5.5s\n",
            "[CV] kmeans__n_clusters=95 ...........................................\n",
            "[CV] ............................ kmeans__n_clusters=95, total=   5.9s\n",
            "[CV] kmeans__n_clusters=95 ...........................................\n",
            "[CV] ............................ kmeans__n_clusters=95, total=   5.6s\n",
            "[CV] kmeans__n_clusters=96 ...........................................\n",
            "[CV] ............................ kmeans__n_clusters=96, total=   5.5s\n",
            "[CV] kmeans__n_clusters=96 ...........................................\n",
            "[CV] ............................ kmeans__n_clusters=96, total=   6.8s\n",
            "[CV] kmeans__n_clusters=96 ...........................................\n",
            "[CV] ............................ kmeans__n_clusters=96, total=   5.4s\n",
            "[CV] kmeans__n_clusters=97 ...........................................\n",
            "[CV] ............................ kmeans__n_clusters=97, total=   6.1s\n",
            "[CV] kmeans__n_clusters=97 ...........................................\n",
            "[CV] ............................ kmeans__n_clusters=97, total=   5.9s\n",
            "[CV] kmeans__n_clusters=97 ...........................................\n",
            "[CV] ............................ kmeans__n_clusters=97, total=   5.7s\n",
            "[CV] kmeans__n_clusters=98 ...........................................\n",
            "[CV] ............................ kmeans__n_clusters=98, total=   5.7s\n",
            "[CV] kmeans__n_clusters=98 ...........................................\n",
            "[CV] ............................ kmeans__n_clusters=98, total=   7.0s\n",
            "[CV] kmeans__n_clusters=98 ...........................................\n",
            "[CV] ............................ kmeans__n_clusters=98, total=   6.0s\n",
            "[CV] kmeans__n_clusters=99 ...........................................\n",
            "[CV] ............................ kmeans__n_clusters=99, total=   5.7s\n",
            "[CV] kmeans__n_clusters=99 ...........................................\n",
            "[CV] ............................ kmeans__n_clusters=99, total=   6.2s\n",
            "[CV] kmeans__n_clusters=99 ...........................................\n",
            "[CV] ............................ kmeans__n_clusters=99, total=   5.7s\n"
          ],
          "name": "stdout"
        },
        {
          "output_type": "stream",
          "text": [
            "[Parallel(n_jobs=1)]: Done 294 out of 294 | elapsed: 22.9min finished\n"
          ],
          "name": "stderr"
        },
        {
          "output_type": "execute_result",
          "data": {
            "text/plain": [
              "GridSearchCV(cv=3, error_score=nan,\n",
              "             estimator=Pipeline(memory=None,\n",
              "                                steps=[('kmeans',\n",
              "                                        KMeans(algorithm='auto', copy_x=True,\n",
              "                                               init='k-means++', max_iter=300,\n",
              "                                               n_clusters=50, n_init=10,\n",
              "                                               n_jobs=None,\n",
              "                                               precompute_distances='auto',\n",
              "                                               random_state=42, tol=0.0001,\n",
              "                                               verbose=0)),\n",
              "                                       ('log_reg',\n",
              "                                        LogisticRegression(C=1.0,\n",
              "                                                           class_weight=None,\n",
              "                                                           dual=False,\n",
              "                                                           fit_intercept=True,\n",
              "                                                           intercept_scaling=1,\n",
              "                                                           l1_ratio=None,\n",
              "                                                           max_iter=5000,\n",
              "                                                           multi_class='ovr',\n",
              "                                                           n_jobs=None,\n",
              "                                                           penalty='l2',\n",
              "                                                           random_state=42,\n",
              "                                                           solver='lbfgs',\n",
              "                                                           tol=0.0001,\n",
              "                                                           verbose=0,\n",
              "                                                           warm_start=False))],\n",
              "                                verbose=False),\n",
              "             iid='deprecated', n_jobs=None,\n",
              "             param_grid={'kmeans__n_clusters': range(2, 100)},\n",
              "             pre_dispatch='2*n_jobs', refit=True, return_train_score=False,\n",
              "             scoring=None, verbose=2)"
            ]
          },
          "metadata": {
            "tags": []
          },
          "execution_count": 48
        }
      ]
    },
    {
      "cell_type": "code",
      "metadata": {
        "id": "mjIbp1GSdkdp",
        "outputId": "d096d9e4-732e-4322-e64e-90f088ac9b08",
        "colab": {
          "base_uri": "https://localhost:8080/",
          "height": 35
        }
      },
      "source": [
        "# 최선의 k값과 파이프라인의 성능\n",
        "\n",
        "grid_clf.best_params_"
      ],
      "execution_count": null,
      "outputs": [
        {
          "output_type": "execute_result",
          "data": {
            "text/plain": [
              "{'kmeans__n_clusters': 97}"
            ]
          },
          "metadata": {
            "tags": []
          },
          "execution_count": 49
        }
      ]
    },
    {
      "cell_type": "code",
      "metadata": {
        "id": "wm0ifvI7dz8C",
        "outputId": "6f2f7ca5-9efb-456b-bee2-442b9c11b1a4",
        "colab": {
          "base_uri": "https://localhost:8080/",
          "height": 35
        }
      },
      "source": [
        "grid_clf.score(X_test, y_test)"
      ],
      "execution_count": null,
      "outputs": [
        {
          "output_type": "execute_result",
          "data": {
            "text/plain": [
              "0.9733333333333334"
            ]
          },
          "metadata": {
            "tags": []
          },
          "execution_count": 50
        }
      ]
    },
    {
      "cell_type": "markdown",
      "metadata": {
        "id": "mKNBZRCsd8Cm"
      },
      "source": [
        "### 5. 군집을 사용한 준지도 학습"
      ]
    },
    {
      "cell_type": "markdown",
      "metadata": {
        "id": "ms5V2G2Yd9-m"
      },
      "source": [
        "레이블이 없는 데이터가 많고 레이블이 있는 데이터는 적을 때 사용"
      ]
    },
    {
      "cell_type": "code",
      "metadata": {
        "id": "M1ii7SB5eccs",
        "outputId": "1aa0a8ec-f3ee-4ab9-8b33-4d63de931efc",
        "colab": {
          "base_uri": "https://localhost:8080/",
          "height": 418
        }
      },
      "source": [
        "# 숫자 데이터셋에서 레이블된 샘플이 50개밖에 없다면?\n",
        "\n",
        "n_labels = 50\n",
        "log_reg = LogisticRegression(multi_class=\"ovr\", solver=\"lbfgs\", random_state=42)\n",
        "log_reg.fit(X_train[:n_labels], y_train[:n_labels])"
      ],
      "execution_count": null,
      "outputs": [
        {
          "output_type": "stream",
          "text": [
            "/usr/local/lib/python3.6/dist-packages/sklearn/linear_model/_logistic.py:940: ConvergenceWarning: lbfgs failed to converge (status=1):\n",
            "STOP: TOTAL NO. of ITERATIONS REACHED LIMIT.\n",
            "\n",
            "Increase the number of iterations (max_iter) or scale the data as shown in:\n",
            "    https://scikit-learn.org/stable/modules/preprocessing.html\n",
            "Please also refer to the documentation for alternative solver options:\n",
            "    https://scikit-learn.org/stable/modules/linear_model.html#logistic-regression\n",
            "  extra_warning_msg=_LOGISTIC_SOLVER_CONVERGENCE_MSG)\n",
            "/usr/local/lib/python3.6/dist-packages/sklearn/linear_model/_logistic.py:940: ConvergenceWarning: lbfgs failed to converge (status=1):\n",
            "STOP: TOTAL NO. of ITERATIONS REACHED LIMIT.\n",
            "\n",
            "Increase the number of iterations (max_iter) or scale the data as shown in:\n",
            "    https://scikit-learn.org/stable/modules/preprocessing.html\n",
            "Please also refer to the documentation for alternative solver options:\n",
            "    https://scikit-learn.org/stable/modules/linear_model.html#logistic-regression\n",
            "  extra_warning_msg=_LOGISTIC_SOLVER_CONVERGENCE_MSG)\n"
          ],
          "name": "stderr"
        },
        {
          "output_type": "execute_result",
          "data": {
            "text/plain": [
              "LogisticRegression(C=1.0, class_weight=None, dual=False, fit_intercept=True,\n",
              "                   intercept_scaling=1, l1_ratio=None, max_iter=100,\n",
              "                   multi_class='ovr', n_jobs=None, penalty='l2',\n",
              "                   random_state=42, solver='lbfgs', tol=0.0001, verbose=0,\n",
              "                   warm_start=False)"
            ]
          },
          "metadata": {
            "tags": []
          },
          "execution_count": 55
        }
      ]
    },
    {
      "cell_type": "code",
      "metadata": {
        "id": "gLBG4stBeygu",
        "outputId": "65ebd837-4e38-41d6-f2a5-18da8ad8f6f4",
        "colab": {
          "base_uri": "https://localhost:8080/",
          "height": 35
        }
      },
      "source": [
        "log_reg.score(X_test, y_test)"
      ],
      "execution_count": null,
      "outputs": [
        {
          "output_type": "execute_result",
          "data": {
            "text/plain": [
              "0.84"
            ]
          },
          "metadata": {
            "tags": []
          },
          "execution_count": 56
        }
      ]
    },
    {
      "cell_type": "code",
      "metadata": {
        "id": "2LHogv9Ne0xF"
      },
      "source": [
        "# 훈련 세트를 50개의 클러스터로 모읍니다.\n",
        "# 그다음 각 클러스터에서 센트로이드에 가장 가까운 이미지를 찾습니다.\n",
        "# 이런 이미지를 대표 이미지(representative image)라고 부릅니다.\n",
        "\n",
        "k = 50\n",
        "kmeans = KMeans(n_clusters=k, random_state=42)\n",
        "X_digits_dist = kmeans.fit_transform(X_train)\n",
        "representative_digit_idx = np.argmin(X_digits_dist, axis=0)\n",
        "X_representative_digits = X_train[representative_digit_idx]"
      ],
      "execution_count": null,
      "outputs": []
    },
    {
      "cell_type": "code",
      "metadata": {
        "id": "VcaBRSbdgjof",
        "outputId": "3855dad3-3d45-4350-a4a4-e2029a9e5d9d",
        "colab": {
          "base_uri": "https://localhost:8080/",
          "height": 140
        }
      },
      "source": [
        "plt.figure(figsize=(8, 2))\n",
        "for index, X_representative_digit in enumerate(X_representative_digits):\n",
        "    plt.subplot(k // 10, 10, index + 1)\n",
        "    plt.imshow(X_representative_digit.reshape(8, 8), cmap=\"binary\", interpolation=\"bilinear\")\n",
        "    plt.axis('off')\n",
        "\n",
        "# save_fig(\"representative_images_diagram\", tight_layout=False)\n",
        "plt.show()"
      ],
      "execution_count": null,
      "outputs": [
        {
          "output_type": "display_data",
          "data": {
            "image/png": "[encoded data removed]",
            "text/plain": [
              "<Figure size 576x144 with 50 Axes>"
            ]
          },
          "metadata": {
            "tags": [],
            "needs_background": "light"
          }
        }
      ]
    },
    {
      "cell_type": "code",
      "metadata": {
        "id": "RGVy6mkBgMu8"
      },
      "source": [
        "# 이미지를 보고 수동으로 레이블을 할당\n",
        "\n",
        "y_representative_digits = np.array([\n",
        "    5, 5, 0, 7, 3, 8, 6, 1, 3, 8,\n",
        "    2, 4, 1, 8, 0 ,9, 7, 1, 3, 4,\n",
        "    2, 4, 8, 0, 1, 9, 6, 2, 9, 8,\n",
        "    2, 7, 1, 6, 5, 3, 2, 0, 3, 7,\n",
        "    4, 5, 5, 9, 4, 8, 1, 4, 1, 7])"
      ],
      "execution_count": null,
      "outputs": []
    },
    {
      "cell_type": "code",
      "metadata": {
        "id": "Ar_Oin_egwd0",
        "outputId": "11e28091-eebf-486c-bf5b-168b0e5c900b",
        "colab": {
          "base_uri": "https://localhost:8080/",
          "height": 35
        }
      },
      "source": [
        "log_reg = LogisticRegression(multi_class=\"ovr\", solver=\"lbfgs\", max_iter=5000, random_state=42)\n",
        "log_reg.fit(X_representative_digits, y_representative_digits)\n",
        "log_reg.score(X_test, y_test)"
      ],
      "execution_count": null,
      "outputs": [
        {
          "output_type": "execute_result",
          "data": {
            "text/plain": [
              "0.8533333333333334"
            ]
          },
          "metadata": {
            "tags": []
          },
          "execution_count": 60
        }
      ]
    },
    {
      "cell_type": "markdown",
      "metadata": {
        "id": "OdKTmQwOg26H"
      },
      "source": [
        "샘플에 레이블을 부여하는 것은 비용이 많이 들고 어렵습니다. 특히 전문가가 수동으로 처리해야 할 때 그렇습니다. 따라서 무작위 샘플 대신 대표 샘플에 레이블을 할당하는 것이 좋은 방법입니다."
      ]
    },
    {
      "cell_type": "markdown",
      "metadata": {
        "id": "TsVeNvd0g9TP"
      },
      "source": [
        "### 레이블 전파(labelpropagation)"
      ]
    },
    {
      "cell_type": "markdown",
      "metadata": {
        "id": "zrZwwRhkhGkj"
      },
      "source": [
        "대표 이미지에 대한 레이블을 동일한 클러스터에 있는 모든 샘플로 전파하는 방법"
      ]
    },
    {
      "cell_type": "code",
      "metadata": {
        "id": "wT8_sOUBhMJE"
      },
      "source": [
        "y_train_propagated = np.empty(len(X_train), dtype=np.int32)\n",
        "for i in range(k):\n",
        "    y_train_propagated[kmeans.labels_==i] = y_representative_digits[i]"
      ],
      "execution_count": null,
      "outputs": []
    },
    {
      "cell_type": "code",
      "metadata": {
        "id": "Gw318XhfhbVk",
        "outputId": "e87fa125-31e5-4d7b-8f2d-01bce49c8c90",
        "colab": {
          "base_uri": "https://localhost:8080/",
          "height": 35
        }
      },
      "source": [
        "# 문제점: 각 대표 샘플의 레이블을 동일한 클러스터의 모든 샘플에 전파\n",
        "# 여기에는 클러스터 경계에 가깝게 위치한 샘플이 포함되어 있고 아마 잘못 레이블이 부여되었을 것입니다.\n",
        "\n",
        "log_reg = LogisticRegression(multi_class=\"ovr\", solver=\"lbfgs\", max_iter=5000, random_state=42)\n",
        "log_reg.fit(X_train, y_train_propagated)\n",
        "log_reg.score(X_test, y_test)"
      ],
      "execution_count": null,
      "outputs": [
        {
          "output_type": "execute_result",
          "data": {
            "text/plain": [
              "0.8911111111111111"
            ]
          },
          "metadata": {
            "tags": []
          },
          "execution_count": 62
        }
      ]
    },
    {
      "cell_type": "code",
      "metadata": {
        "id": "yvr1O4g9iH46"
      },
      "source": [
        "# 부분적으로 전파\n",
        "# 센트로이드와 가까운 샘플의 20%에만 레이블을 전파하는 방법\n",
        "\n",
        "percentile_closest = 20\n",
        "\n",
        "X_cluster_dist = X_digits_dist[np.arange(len(X_train)), kmeans.labels_]\n",
        "for i in range(k):\n",
        "    in_cluster = (kmeans.labels_ == i)\n",
        "    cluster_dist = X_cluster_dist[in_cluster]\n",
        "    cutoff_distance = np.percentile(cluster_dist, percentile_closest)\n",
        "    above_cutoff = (X_cluster_dist > cutoff_distance)\n",
        "    X_cluster_dist[in_cluster & above_cutoff] = -1\n",
        "\n",
        "partially_propagated = (X_cluster_dist != -1)\n",
        "X_train_partially_propagated = X_train[partially_propagated]\n",
        "y_train_partially_propagated = y_train_propagated[partially_propagated]"
      ],
      "execution_count": null,
      "outputs": []
    },
    {
      "cell_type": "code",
      "metadata": {
        "id": "kCJ_86_oiSbP",
        "outputId": "d8ce57b0-0d35-4645-f56f-4995df89df59",
        "colab": {
          "base_uri": "https://localhost:8080/",
          "height": 35
        }
      },
      "source": [
        "log_reg = LogisticRegression(multi_class=\"ovr\", solver=\"lbfgs\", max_iter=5000, random_state=42)\n",
        "log_reg.fit(X_train_partially_propagated, y_train_partially_propagated)\n",
        "log_reg.score(X_test, y_test)"
      ],
      "execution_count": null,
      "outputs": [
        {
          "output_type": "execute_result",
          "data": {
            "text/plain": [
              "0.8644444444444445"
            ]
          },
          "metadata": {
            "tags": []
          },
          "execution_count": 64
        }
      ]
    },
    {
      "cell_type": "markdown",
      "metadata": {
        "id": "p0h1FHa6iql1"
      },
      "source": [
        "### 능동 학습(active learning)"
      ]
    },
    {
      "cell_type": "markdown",
      "metadata": {
        "id": "f7FNjODyqiCf"
      },
      "source": [
        "전문가가 학습 알고리즘과 상호작용하여 알고리즘이 요청할 때 특정 샘플의 레이블을 제공하는 방법<br>\n",
        "ex) 불확실성 샘플링 등"
      ]
    },
    {
      "cell_type": "markdown",
      "metadata": {
        "id": "gwEB8AZOjsi-"
      },
      "source": [
        "**불확실성 샘플링(uncertainty sampling)**<br>\n",
        "<br>\n",
        "\n",
        "1. 지금까지 수집한 레이블된 샘플에서 모델을 훈련합니다. 이 모델을 사용해 레이블되지않은 모든 샘플에 대한 예측을 만듭니다.\n",
        "2. 모델이 가장 불확실하게 예측한 샘플(즉 추정 확률이 낮은 샘플)을 전문가에게 보내 레이블을 붙입니다.\n",
        "3. 레이블을 부여하는 노력만큼의 성능이 향상되지 않을 때까지 이를 반복합니다."
      ]
    },
    {
      "cell_type": "markdown",
      "metadata": {
        "id": "LPDOSdp-qU0Q"
      },
      "source": [
        "다른 전략은 모델을 가장 크게 바꾸는 샘플이나 모델의 검증 점수를 가장 크게 떨어뜨리는 샘플, 여러 개의 모델(예를 들면 SVM이나 랜덤 포레스트)이 동일한 예측을 내지 않는 샘플에 대해 레이블을 요청하는 것입니다."
      ]
    },
    {
      "cell_type": "markdown",
      "metadata": {
        "id": "SIRmJK7eqeEo"
      },
      "source": [
        "### 6. DBSCAN"
      ]
    },
    {
      "cell_type": "markdown",
      "metadata": {
        "id": "FvQLGsXWrAxM"
      },
      "source": [
        "밀집된 연속적 지역을 클러스터로 정의하는 방법으로, 모든 클러스터가 충분히 밀집되어 있고 밀집되지 않은 지역과 잘 구분될 때 좋은 성능을 냅니다."
      ]
    },
    {
      "cell_type": "markdown",
      "metadata": {
        "id": "G9LTRF8WqtqV"
      },
      "source": [
        "* 알고리즘이 각 샘플에서 작은 거리인 e(입실론) 내에 샘플이 몇 개 놓여 있는지 셉니다. 이 지역을 샘플의 e-이웃(e-neighborhood)이라고 부릅니다.\n",
        "* (자기 자신을 포함해) e-이웃 내에 적어도 min_samples개 샘플이 있다면 이를 핵심 샘플(core instance)로 간주합니다. 즉 핵심 샘플은 밀집된 지역에 있는 샘플입니다.\n",
        "* 핵심 샘플의 이웃에 있는 모든 샘플은 동일한 클러스터에 속합니다. 이웃에는 다른 핵심 샘플이 포함될 수 있습니다. 따라서 핵심 샘플의 이웃의 이웃은 계속해서 하나의 클러스터를 형성합니다.\n",
        "* 핵심 샘플이 아니고 이웃도 아닌 샘플은 이상치로 판단합니다."
      ]
    },
    {
      "cell_type": "code",
      "metadata": {
        "id": "N1rCuWParvsi",
        "outputId": "042a5a8b-6f91-466a-b165-77d32d1347cd",
        "colab": {
          "base_uri": "https://localhost:8080/",
          "height": 53
        }
      },
      "source": [
        "from sklearn.cluster import DBSCAN\n",
        "from sklearn.datasets import make_moons\n",
        "\n",
        "X, y = make_moons(n_samples=1000, noise=0.05, random_state=42)\n",
        "dbscan = DBSCAN(eps=0.05, min_samples=5)\n",
        "dbscan.fit(X)"
      ],
      "execution_count": 66,
      "outputs": [
        {
          "output_type": "execute_result",
          "data": {
            "text/plain": [
              "DBSCAN(algorithm='auto', eps=0.05, leaf_size=30, metric='euclidean',\n",
              "       metric_params=None, min_samples=5, n_jobs=None, p=None)"
            ]
          },
          "metadata": {
            "tags": []
          },
          "execution_count": 66
        }
      ]
    },
    {
      "cell_type": "code",
      "metadata": {
        "id": "0fdks_j9sX6M",
        "outputId": "84760d28-af32-4e7f-ec1e-98a98433b310",
        "colab": {
          "base_uri": "https://localhost:8080/",
          "height": 35
        }
      },
      "source": [
        "# 일부 샘플의 클러스터 인덱스는 -1입니다.\n",
        "# 이는 알고리즘이 이 샘플을 이상치로 판단했다는 의미입니다.\n",
        "\n",
        "dbscan.labels_[:10]"
      ],
      "execution_count": 67,
      "outputs": [
        {
          "output_type": "execute_result",
          "data": {
            "text/plain": [
              "array([ 0,  2, -1, -1,  1,  0,  0,  0,  2,  5])"
            ]
          },
          "metadata": {
            "tags": []
          },
          "execution_count": 67
        }
      ]
    },
    {
      "cell_type": "code",
      "metadata": {
        "id": "HGeKS3nNsjX_",
        "outputId": "145d5c60-7006-48b3-9372-9cf30c2469cd",
        "colab": {
          "base_uri": "https://localhost:8080/",
          "height": 35
        }
      },
      "source": [
        "# 핵심 샘플의 인덱스는 인스턴스 변수 core_sample_indices_에서 확인할 수 있습니다.\n",
        "len(dbscan.core_sample_indices_)"
      ],
      "execution_count": 68,
      "outputs": [
        {
          "output_type": "execute_result",
          "data": {
            "text/plain": [
              "808"
            ]
          },
          "metadata": {
            "tags": []
          },
          "execution_count": 68
        }
      ]
    },
    {
      "cell_type": "code",
      "metadata": {
        "id": "EwNs_43ds522",
        "outputId": "1ab7e9c3-8e11-4cee-99b3-2f93bde628c1",
        "colab": {
          "base_uri": "https://localhost:8080/",
          "height": 35
        }
      },
      "source": [
        "dbscan.core_sample_indices_[:10]"
      ],
      "execution_count": 69,
      "outputs": [
        {
          "output_type": "execute_result",
          "data": {
            "text/plain": [
              "array([ 0,  4,  5,  6,  7,  8, 10, 11, 12, 13])"
            ]
          },
          "metadata": {
            "tags": []
          },
          "execution_count": 69
        }
      ]
    },
    {
      "cell_type": "code",
      "metadata": {
        "id": "sfGnU5i0s3W5",
        "outputId": "a4fcb81d-9702-4fc3-b144-ecff1c828950",
        "colab": {
          "base_uri": "https://localhost:8080/",
          "height": 71
        }
      },
      "source": [
        "# 핵심 샘플 자체는 인스턴스 변수 components_에 저장되어 있습니다.\n",
        "dbscan.components_[:3]"
      ],
      "execution_count": 70,
      "outputs": [
        {
          "output_type": "execute_result",
          "data": {
            "text/plain": [
              "array([[-0.02137124,  0.40618608],\n",
              "       [-0.84192557,  0.53058695],\n",
              "       [ 0.58930337, -0.32137599]])"
            ]
          },
          "metadata": {
            "tags": []
          },
          "execution_count": 70
        }
      ]
    },
    {
      "cell_type": "markdown",
      "metadata": {
        "id": "MbX6WpTps-N2"
      },
      "source": [
        "<img src='https://i.imgur.com/FOIEIEO.png' width='100%'>"
      ]
    },
    {
      "cell_type": "markdown",
      "metadata": {
        "id": "uLYavrmOtLWm"
      },
      "source": [
        "두가지 다른 이웃 반경을 사용한 DBSCAN 군집"
      ]
    },
    {
      "cell_type": "markdown",
      "metadata": {
        "id": "PoYF6xcItNyv"
      },
      "source": [
        "### 7. 다른 군집 알고리즘"
      ]
    },
    {
      "cell_type": "markdown",
      "metadata": {
        "id": "dPQ8mpUwuE5b"
      },
      "source": [
        "* 병합 군집\n",
        "* BIRCH\n",
        "* 평균-이동\n",
        "* 유사도 전파\n",
        "* 스펙트럼 군집"
      ]
    },
    {
      "cell_type": "markdown",
      "metadata": {
        "id": "-3DURQp0uOrR"
      },
      "source": [
        "# 가우시안 혼합"
      ]
    },
    {
      "cell_type": "markdown",
      "metadata": {
        "id": "2rtJJCEsuQPv"
      },
      "source": [
        "### 가우시안 혼합 모델(Gaussian mixture model, GMM)"
      ]
    },
    {
      "cell_type": "markdown",
      "metadata": {
        "id": "fGNaUDYKuYQx"
      },
      "source": [
        "샘플이 파라미터가 알려지지 않은 여러 개의 혼합된 가우시안 분포에서 생성되었다고 가정하는 확률 모델"
      ]
    },
    {
      "cell_type": "markdown",
      "metadata": {
        "id": "9lcKDEJDufVu"
      },
      "source": [
        "(...skip...)"
      ]
    },
    {
      "cell_type": "markdown",
      "metadata": {
        "id": "T-sEcYFeu_mR"
      },
      "source": [
        "# 연습문제"
      ]
    },
    {
      "cell_type": "markdown",
      "metadata": {
        "id": "Ehc8PflqvFnZ"
      },
      "source": [
        "**1. 군집을 어떻게 정의할 수 있나요? 몇 개의 군집 알고리즘을 말해보세요.**<br>\n",
        "<br>\n",
        "머신러닝에서 군집은 비슷한 샘플을 모으는 비지도 작업입니다. 유사도 개념은 주어진 문제에 따라 다릅니다. 예를 들어 어떤 경우에는 가까이 있는 두 샘플은 비슷하다고 생각할 수 있지만 다른 경우에는 조밀하게 모여 있는 그룹에 같이 속해 있는 한 멀리 떨어진 샘플도 비슷하다고 볼 수 있습니다. k-평균, DBSCAN, 병합 군집, BIRCH, 평균-이동, 유사도 전파, 스펙트럼 군집 등이 인기가 많은 군집 알고리즘입니다."
      ]
    },
    {
      "cell_type": "markdown",
      "metadata": {
        "id": "_7aQG5G2vfM1"
      },
      "source": [
        "**2. 군집 알고리즘의 주요 애플리케이션은 무엇인가요?**<br>\n",
        "<br>\n",
        "군집 알고리즘의 주요 애플리케이션은 데이터 분석, 고객 분류, 추천 시스템, 검색 엔진, 이미지 분할, 준지도 학습, 차원 축소, 이상치 탐지, 특이치 탐지 등입니다."
      ]
    },
    {
      "cell_type": "markdown",
      "metadata": {
        "id": "o5WaxHl2vrac"
      },
      "source": [
        "**3. k-평균을 사용할 때 적절한 클러스터 개수를 선택할 수 있는 두 가지 기법을 설명하세요.**<br>\n",
        "<br>\n",
        "k-평균을 사용할 때 클러스터 개수를 선택하는 간단한 방법은 엘보 규칙입니다. 클러스터 개수의 함수로 이너셔(각 샘플과 인접한 센트로이드 사이의 평균 제곱 거리)를 그리고 그래프에서 이너셔가 더는 빠르게 감소하지 않는 지점(엘보)을 찾습니다. 일반적으로 이 지점이 최적의 클러스터 개수에 가깝습니다. 다른 방법으로는 클러스터 개수의 함수로 실루엣 점수를 그래프로 그립니다. 그래프에 뾰족하게 올라간 지점이 나타나는 경우가 많은데 일반적으로 이 근처가 최적의 클러스터 개수입니다. 실루엣 점수는 모든 샘플에 대한 평균 실루엣 계수입니다. 샘플이 자신의 클러스터 안에 잘 속해 있고 다른 클러스터와 멀리 떨어져 있으면 +1에 가깝고 다른 클러스터에 매우 인접해 있으면 -1에 가까워집니다. 실루엣 다이어그램을 그려 좀 더 많은 분석을 수행할 수 있습니다."
      ]
    },
    {
      "cell_type": "markdown",
      "metadata": {
        "id": "JoCkjAvHwSIM"
      },
      "source": [
        "**4. 레이블 전파는 무엇인가요? 왜 이를 구현해야 하고 어떻게 구현할 수 있나요?**<br>\n",
        "<br>\n",
        "데이터셋에 레이블을 부여하는 것은 비용과 시간이 많이 듭니다. 따라서 보통 레이블이 없는 샘플은 많고 레이블이 있는 샘플은 적습니다. 레이블 전파는 레이블이 있는 샘플의 일부(또는 전부)를 레이블이 없는 비슷한 샘플에 복사하는 기법입니다. 레이블을 가진 샘플의 개수를 크게 늘릴 수 있고 지도 학습 방법을 사용해 더 나은 성능을 낼 수 있습니다(이것이 준지도 학습 방법입니다). 이를 구현하는 한 가지 방법은 k-평균과 같은 군집 알고리즘을 모든 샘플에 적용한 다음 군집마다 가장 많은 레이블이나 가장 대표적인 샘플(즉 센트로이드에 가장 가까운 샘플)을 찾아 동일 클러스터 안에 있는 레이블이 없는 샘플에 전파하는 것입니다."
      ]
    },
    {
      "cell_type": "markdown",
      "metadata": {
        "id": "E009mx2tw1WI"
      },
      "source": [
        "**5. 대규모 데이터셋으로 확장할 수 있는 군집 알고리즘 두 개를 말해보세요. 밀도가 높은 지역을 찾는 군집 알고리즘 두 개는 무엇인가요?**<br>\n",
        "<br>\n",
        "k-평균과 BIRCH를 대규모 데이터셋에 적용할 수 있습니다. DBSCAN과 평균-이동이 밀도가 높은 지역을 찾습니다."
      ]
    },
    {
      "cell_type": "markdown",
      "metadata": {
        "id": "QttnebcbxE3V"
      },
      "source": [
        "**6. 능동 학습이 유용한 경우는 언제인가요? 어떻게 구현할 수 있나요?**<br>\n",
        "<br>\n",
        "레이블이 없는 샘플이 많고 레이블을 부여하는 것에 비용이 많이 들 때는 능동 학습이 유용합니다. 이런 (매우 흔한) 경우에는 무작위로 샘플을 선택해 레이블을 부여하는 것보다 능동 학습이 더 바람직합니다. 전문가가 학습 알고리즘과 상호작용하여 알고리즘이 요청하는 특정 샘플에 레이블을 제공합니다. 널리 사용하는 것은 불확실성 샘플링입니다."
      ]
    },
    {
      "cell_type": "markdown",
      "metadata": {
        "id": "5IADGGB2xajq"
      },
      "source": [
        "**7. 이상치 탐지와 정상치 탐지의 차이는 무엇인가요?**<br>\n",
        "<br>\n",
        "많은 사람들이 이상치 탐지와 특이치 탐지 두 용어를 혼용하여 사용합니다. 하지만 둘이 완전히 같은 것은 아닙니다. 이상치탐지는 이상치가 포함될 수 있는 데이터셋에서 알고리즘을 훈련합니다. 이상치 탐지의 목표는 전형적으로 (훈련 세트 안에 있는) 이상치와 새로운 샘플 사이에 있는 이상치를 구별해내는 것입니다. 특이치 탐지에서는 '깨끗'하다고 가정한 데이터셋에서 알고리즘을 훈련합니다. 이 알고리즘의 목적은 새로운 샘플 사이에서 특이한 것을 감지하는 것입니다. 어떤 알고리즘(예를 들어 아이솔레이션 포레스트)은 이상치 탐지에 최적인 반면 다른 알고리즘(예를 들어 one-class SVM)은 특이치 탐지에 잘 맞습니다."
      ]
    },
    {
      "cell_type": "markdown",
      "metadata": {
        "id": "SK4-RUGuyClK"
      },
      "source": [
        "**8. 가우시안 혼합이 무엇인가요? 어떤 작업에 사용할 수 있나요?**<br>\n",
        "<br>\n",
        "가우시안 혼합 모델(GMM)은 샘플이 파라미터를 모르는 몇 개의 가우시안 분포에서 생성되었다고 가정하는 확률 모델입니다. 다른 말로 하면 데이터가유한한 개수의 타원 모양 클러스터로 그룹지어 있다는 가정입니다(클러스터의 타원 모양, 크기, 방향, 밀집도는 다를 수 있습니다). 하지만 샘플이 어떤 클러스터에 속해 있는지는 알지 못합니다. 밀집도 추정, 군집, 이상치 탐지에이 모델을 사용할 수 있습니다."
      ]
    },
    {
      "cell_type": "markdown",
      "metadata": {
        "id": "PlWe6egCybZW"
      },
      "source": [
        "(...skip...)"
      ]
    }
  ]
}