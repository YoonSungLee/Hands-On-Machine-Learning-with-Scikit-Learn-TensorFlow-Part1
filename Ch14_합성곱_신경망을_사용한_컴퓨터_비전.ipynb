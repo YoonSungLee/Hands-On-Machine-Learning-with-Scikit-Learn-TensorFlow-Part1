{
  "nbformat": 4,
  "nbformat_minor": 0,
  "metadata": {
    "colab": {
      "name": "Ch14_합성곱 신경망을 사용한 컴퓨터 비전.ipynb",
      "provenance": [],
      "collapsed_sections": [],
      "authorship_tag": "ABX9TyOCrUPnK7eUvaLWcxxcMTrH"
    },
    "kernelspec": {
      "name": "python3",
      "display_name": "Python 3"
    }
  },
  "cells": [
    {
      "cell_type": "markdown",
      "metadata": {
        "id": "QOusQT3bpmgM"
      },
      "source": [
        "# 14장. 합성곱 신경망을 사용한 컴퓨터 비전"
      ]
    },
    {
      "cell_type": "markdown",
      "metadata": {
        "id": "N-oGNAuwp5m2"
      },
      "source": [
        "https://nbviewer.jupyter.org/github/rickiepark/handson-ml2/tree/master/"
      ]
    },
    {
      "cell_type": "markdown",
      "metadata": {
        "id": "3-TOBRmxp7m-"
      },
      "source": [
        "이 코드의 내용은 Hands-On Machine Learning with Scikit-Learn & TensorFlow을 참고했음을 밝힙니다."
      ]
    },
    {
      "cell_type": "markdown",
      "metadata": {
        "id": "uYgn_fDlp-rP"
      },
      "source": [
        "# 시각 피질 구조"
      ]
    },
    {
      "cell_type": "markdown",
      "metadata": {
        "id": "tPEplcV9qi4-"
      },
      "source": [
        "시각 피질 안의 많은 뉴런이 작은 국부 수용장(local receptive field)을 가진다는 것을 보였습니다. 즉 뉴런들이 시야의 일부 범위 안에 있는 시각 자극에만 반응한다는 뜻입니다. 뉴런의 수용장들은 서로 겹칠 수 있어서, 합치면 전체 시야를 감싸게 됩니다. 또한 어떤 뉴런은 수평선의 이미지에만 반응하고 반면 다른 뉴런은 다른 각도의 선분에 반응한다는 점을 보였습니다(두 뉴런은 동일한 수용장을 가지지만 다른 각도의 선분에 반응합니다). 또한 어떤 뉴런은 큰 수용장을 가져서 저수준 패턴이 조합된 더 복잡한 패턴에 반응한다는 것을 알았습니다."
      ]
    },
    {
      "cell_type": "markdown",
      "metadata": {
        "id": "vfS0z0h7rTHY"
      },
      "source": [
        "*Note*<br>\n",
        "왜 이미지 인식 문제에 일반적인 완전 연결 층의 심층 신경망을 사용하지 않을까요? 이런 신경망은 작은 이미지(예를 들면 MNIST)에서는 잘 작동하지만 큰 이미지에서는 아주 많은 파라미터가 만들어지기 때문에 문제가 됩니다. 예를 들어 100x100 이미지는 픽셀 10,000개로 이루어져 있습니다. 여기에 (다음 층으로 전달되는 정보의 양을 상당히 줄여서) 첫 번째 은닉층을 뉴런 1,000개로 만들어도 연결이 총 1천만 개가 생깁니다. 이는 첫 번째 은닉층일 뿐입니다. CNN은 부분적으로 연결하고 가중치를 공유하여 이 문제를 해결합니다."
      ]
    },
    {
      "cell_type": "markdown",
      "metadata": {
        "id": "ET36lj9ar_N9"
      },
      "source": [
        "# 합성곱 층"
      ]
    },
    {
      "cell_type": "markdown",
      "metadata": {
        "id": "3kdlFZV2srg2"
      },
      "source": [
        "* convolutional layer: 합성곱 층의 뉴런은 입력 이미지(또는 피처 맵)의 모든 픽셀에 연결되는 것이 아니라 합성곱 층 뉴런의 수용장 안에 있는 픽셀에만 연결됩니다.\n",
        "* zero padding: 높이와 너비를 이전 층과 같게 하기 위해 입럭의 주위에 0을 추가하는 것\n",
        "* stride: 한 수용장과 다음 수용장 사이의 간격"
      ]
    },
    {
      "cell_type": "markdown",
      "metadata": {
        "id": "GKFxEK1htKq7"
      },
      "source": [
        "<img src='https://i.imgur.com/Wmnykgt.png' width='100%'>"
      ]
    },
    {
      "cell_type": "markdown",
      "metadata": {
        "id": "NHiWmg3ZttlS"
      },
      "source": [
        "Reference) https://m.blog.naver.com/seongcheol02/221746849767"
      ]
    },
    {
      "cell_type": "markdown",
      "metadata": {
        "id": "umbNy8AYuwkT"
      },
      "source": [
        "546~"
      ]
    }
  ]
}